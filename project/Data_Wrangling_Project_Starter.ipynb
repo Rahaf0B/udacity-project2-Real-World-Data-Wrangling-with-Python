{
 "cells": [
  {
   "cell_type": "markdown",
   "metadata": {
    "id": "GNIwe5N7s0e_"
   },
   "source": [
    "# Real-world Data Wrangling"
   ]
  },
  {
   "cell_type": "markdown",
   "metadata": {
    "id": "_BG63Tpg8ep_"
   },
   "source": [
    ">Install the some of the required packages. "
   ]
  },
  {
   "cell_type": "code",
   "execution_count": 1,
   "metadata": {},
   "outputs": [
    {
     "name": "stdout",
     "output_type": "stream",
     "text": [
      "Requirement already satisfied: kaggle==1.6.12 in c:\\users\\dell\\appdata\\local\\programs\\python\\python311\\lib\\site-packages (1.6.12)\n",
      "Requirement already satisfied: six>=1.10 in c:\\users\\dell\\appdata\\roaming\\python\\python311\\site-packages (from kaggle==1.6.12) (1.16.0)\n",
      "Requirement already satisfied: certifi>=2023.7.22 in c:\\users\\dell\\appdata\\local\\programs\\python\\python311\\lib\\site-packages (from kaggle==1.6.12) (2024.6.2)\n",
      "Requirement already satisfied: python-dateutil in c:\\users\\dell\\appdata\\roaming\\python\\python311\\site-packages (from kaggle==1.6.12) (2.8.2)\n",
      "Requirement already satisfied: requests in c:\\users\\dell\\appdata\\local\\programs\\python\\python311\\lib\\site-packages (from kaggle==1.6.12) (2.31.0)\n",
      "Requirement already satisfied: tqdm in c:\\users\\dell\\appdata\\local\\programs\\python\\python311\\lib\\site-packages (from kaggle==1.6.12) (4.66.4)\n",
      "Requirement already satisfied: python-slugify in c:\\users\\dell\\appdata\\local\\programs\\python\\python311\\lib\\site-packages (from kaggle==1.6.12) (8.0.4)\n",
      "Requirement already satisfied: urllib3 in c:\\users\\dell\\appdata\\local\\programs\\python\\python311\\lib\\site-packages (from kaggle==1.6.12) (2.2.0)\n",
      "Requirement already satisfied: bleach in c:\\users\\dell\\appdata\\local\\programs\\python\\python311\\lib\\site-packages (from kaggle==1.6.12) (6.1.0)\n",
      "Requirement already satisfied: webencodings in c:\\users\\dell\\appdata\\local\\programs\\python\\python311\\lib\\site-packages (from bleach->kaggle==1.6.12) (0.5.1)\n",
      "Requirement already satisfied: text-unidecode>=1.3 in c:\\users\\dell\\appdata\\local\\programs\\python\\python311\\lib\\site-packages (from python-slugify->kaggle==1.6.12) (1.3)\n",
      "Requirement already satisfied: charset-normalizer<4,>=2 in c:\\users\\dell\\appdata\\local\\programs\\python\\python311\\lib\\site-packages (from requests->kaggle==1.6.12) (3.3.2)\n",
      "Requirement already satisfied: idna<4,>=2.5 in c:\\users\\dell\\appdata\\local\\programs\\python\\python311\\lib\\site-packages (from requests->kaggle==1.6.12) (3.6)\n",
      "Requirement already satisfied: colorama in c:\\users\\dell\\appdata\\roaming\\python\\python311\\site-packages (from tqdm->kaggle==1.6.12) (0.4.6)\n"
     ]
    },
    {
     "name": "stderr",
     "output_type": "stream",
     "text": [
      "\n",
      "[notice] A new release of pip is available: 24.0 -> 24.1.1\n",
      "[notice] To update, run: python.exe -m pip install --upgrade pip\n"
     ]
    }
   ],
   "source": [
    "!python -m pip install kaggle==1.6.12"
   ]
  },
  {
   "cell_type": "code",
   "execution_count": 2,
   "metadata": {},
   "outputs": [
    {
     "name": "stdout",
     "output_type": "stream",
     "text": [
      "Collecting ucimlrepo\n",
      "  Using cached ucimlrepo-0.0.7-py3-none-any.whl.metadata (5.5 kB)\n",
      "Collecting pandas>=1.0.0 (from ucimlrepo)\n",
      "  Using cached pandas-2.2.2-cp311-cp311-win_amd64.whl.metadata (19 kB)\n",
      "Collecting certifi>=2020.12.5 (from ucimlrepo)\n",
      "  Using cached certifi-2024.6.2-py3-none-any.whl.metadata (2.2 kB)\n",
      "Collecting numpy>=1.23.2 (from pandas>=1.0.0->ucimlrepo)\n",
      "  Using cached numpy-2.0.0-cp311-cp311-win_amd64.whl.metadata (60 kB)\n",
      "Collecting python-dateutil>=2.8.2 (from pandas>=1.0.0->ucimlrepo)\n",
      "  Using cached python_dateutil-2.9.0.post0-py2.py3-none-any.whl.metadata (8.4 kB)\n",
      "Collecting pytz>=2020.1 (from pandas>=1.0.0->ucimlrepo)\n",
      "  Using cached pytz-2024.1-py2.py3-none-any.whl.metadata (22 kB)\n",
      "Collecting tzdata>=2022.7 (from pandas>=1.0.0->ucimlrepo)\n",
      "  Using cached tzdata-2024.1-py2.py3-none-any.whl.metadata (1.4 kB)\n",
      "Collecting six>=1.5 (from python-dateutil>=2.8.2->pandas>=1.0.0->ucimlrepo)\n",
      "  Using cached six-1.16.0-py2.py3-none-any.whl.metadata (1.8 kB)\n",
      "Using cached ucimlrepo-0.0.7-py3-none-any.whl (8.0 kB)\n",
      "Using cached certifi-2024.6.2-py3-none-any.whl (164 kB)\n",
      "Using cached pandas-2.2.2-cp311-cp311-win_amd64.whl (11.6 MB)\n",
      "Using cached numpy-2.0.0-cp311-cp311-win_amd64.whl (16.5 MB)\n",
      "Using cached python_dateutil-2.9.0.post0-py2.py3-none-any.whl (229 kB)\n",
      "Using cached pytz-2024.1-py2.py3-none-any.whl (505 kB)\n",
      "Using cached tzdata-2024.1-py2.py3-none-any.whl (345 kB)\n",
      "Using cached six-1.16.0-py2.py3-none-any.whl (11 kB)\n",
      "Installing collected packages: pytz, tzdata, six, numpy, certifi, python-dateutil, pandas, ucimlrepo\n",
      "Successfully installed certifi-2024.6.2 numpy-2.0.0 pandas-2.2.2 python-dateutil-2.9.0.post0 pytz-2024.1 six-1.16.0 tzdata-2024.1 ucimlrepo-0.0.7\n"
     ]
    },
    {
     "name": "stderr",
     "output_type": "stream",
     "text": [
      "ERROR: pip's dependency resolver does not currently take into account all the packages that are installed. This behaviour is the source of the following dependency conflicts.\n",
      "flwr 1.8.0 requires numpy<2.0.0,>=1.21.0, but you have numpy 2.0.0 which is incompatible.\n",
      "flwr-datasets 0.1.0 requires numpy<2.0.0,>=1.21.0, but you have numpy 2.0.0 which is incompatible.\n",
      "scipy 1.10.0 requires numpy<1.27.0,>=1.19.5, but you have numpy 2.0.0 which is incompatible.\n",
      "WARNING: Target directory c:\\workspace\\certifi already exists. Specify --upgrade to force replacement.\n",
      "WARNING: Target directory c:\\workspace\\certifi-2024.6.2.dist-info already exists. Specify --upgrade to force replacement.\n",
      "WARNING: Target directory c:\\workspace\\dateutil already exists. Specify --upgrade to force replacement.\n",
      "WARNING: Target directory c:\\workspace\\numpy already exists. Specify --upgrade to force replacement.\n",
      "WARNING: Target directory c:\\workspace\\numpy-2.0.0-cp311-cp311-win_amd64.whl already exists. Specify --upgrade to force replacement.\n",
      "WARNING: Target directory c:\\workspace\\numpy-2.0.0.dist-info already exists. Specify --upgrade to force replacement.\n",
      "WARNING: Target directory c:\\workspace\\numpy.libs already exists. Specify --upgrade to force replacement.\n",
      "WARNING: Target directory c:\\workspace\\pandas already exists. Specify --upgrade to force replacement.\n",
      "WARNING: Target directory c:\\workspace\\pandas-2.2.2.dist-info already exists. Specify --upgrade to force replacement.\n",
      "WARNING: Target directory c:\\workspace\\pandas.libs already exists. Specify --upgrade to force replacement.\n",
      "WARNING: Target directory c:\\workspace\\python_dateutil-2.9.0.post0.dist-info already exists. Specify --upgrade to force replacement.\n",
      "WARNING: Target directory c:\\workspace\\pytz already exists. Specify --upgrade to force replacement.\n",
      "WARNING: Target directory c:\\workspace\\pytz-2024.1.dist-info already exists. Specify --upgrade to force replacement.\n",
      "WARNING: Target directory c:\\workspace\\six-1.16.0.dist-info already exists. Specify --upgrade to force replacement.\n",
      "WARNING: Target directory c:\\workspace\\six.py already exists. Specify --upgrade to force replacement.\n",
      "WARNING: Target directory c:\\workspace\\tzdata already exists. Specify --upgrade to force replacement.\n",
      "WARNING: Target directory c:\\workspace\\tzdata-2024.1.dist-info already exists. Specify --upgrade to force replacement.\n",
      "WARNING: Target directory c:\\workspace\\ucimlrepo already exists. Specify --upgrade to force replacement.\n",
      "WARNING: Target directory c:\\workspace\\ucimlrepo-0.0.7.dist-info already exists. Specify --upgrade to force replacement.\n",
      "WARNING: Target directory c:\\workspace\\__pycache__ already exists. Specify --upgrade to force replacement.\n",
      "WARNING: Target directory c:\\workspace\\bin already exists. Specify --upgrade to force replacement.\n",
      "\n",
      "[notice] A new release of pip is available: 24.0 -> 24.1.1\n",
      "[notice] To update, run: python.exe -m pip install --upgrade pip\n"
     ]
    }
   ],
   "source": [
    "!pip install --target=/workspace ucimlrepo"
   ]
  },
  {
   "cell_type": "code",
   "execution_count": 3,
   "metadata": {},
   "outputs": [
    {
     "name": "stdout",
     "output_type": "stream",
     "text": [
      "Requirement already satisfied: Pillow in c:\\users\\dell\\appdata\\local\\programs\\python\\python311\\lib\\site-packages (9.4.0)\n"
     ]
    },
    {
     "name": "stderr",
     "output_type": "stream",
     "text": [
      "\n",
      "[notice] A new release of pip is available: 24.0 -> 24.1.1\n",
      "[notice] To update, run: python.exe -m pip install --upgrade pip\n"
     ]
    }
   ],
   "source": [
    "!pip install Pillow"
   ]
  },
  {
   "cell_type": "code",
   "execution_count": 4,
   "metadata": {},
   "outputs": [],
   "source": [
    "import os\n",
    "import pandas as pd\n",
    "os.environ[\"KAGGLE_CONFIG_DIR\"] = \"./kaggle\"\n",
    "\n",
    "from kaggle.api.kaggle_api_extended import KaggleApi\n",
    "import numpy as np\n",
    "import matplotlib.pyplot as plt\n",
    "import seaborn as sns\n",
    "import zipfile\n",
    "import re\n",
    "import ast\n",
    "import requests\n",
    "\n",
    "\n"
   ]
  },
  {
   "cell_type": "markdown",
   "metadata": {},
   "source": [
    "**Note:** Restart the kernel to use updated package(s)."
   ]
  },
  {
   "cell_type": "markdown",
   "metadata": {
    "id": "lDYDkH-Zs7Nn"
   },
   "source": [
    "## 1. Gather data\n",
    "\n",
    "`In this section, The data will be extracted using two different data gathering methods.`"
   ]
  },
  {
   "cell_type": "markdown",
   "metadata": {
    "id": "LbN7z7rcuqpO"
   },
   "source": [
    "### **1.1.** Problem Statement\n",
    "The problem Statement is :  Are there any correlations between published date and review score?\n",
    "\n",
    "\n",
    "With this study, I want to look into any possible relationship between a book's review score and the date of publishing. I will be organizing two datasets: one will contain book-related data, the other will contain user-generated data and rating book data. My goal in examining these datasets is to find patterns that show how a book's release date may affect reviews and readership."
   ]
  },
  {
   "cell_type": "markdown",
   "metadata": {
    "id": "8AQfBAdUypMm"
   },
   "source": [
    "### **1.2.** Gather at least two datasets using two different data gathering methods\n",
    "\n",
    "List of data gathering methods:\n",
    "\n",
    "- Download data manually : The link of the dataset => https://drive.google.com/file/d/1ZSPtfe0z09JU021tyL-qhB5h4v68P6es/view?usp=sharing\n",
    "  (Also the source of the data can be accessed from this link : https://www.kaggle.com/datasets/mohamedbakhet/amazon-books-reviews?select=Books_rating.csv\n",
    ")\n",
    "- Programmatically downloading files"
   ]
  },
  {
   "cell_type": "markdown",
   "metadata": {},
   "source": [
    "The reason for picking these datasets: \n",
    "\n",
    "`The chosen datasets will focus on books and their reviews. The data has been selected to analyze the relationship between books and reviews, exploring what factors contribute to a book receiving a high rating`"
   ]
  },
  {
   "cell_type": "markdown",
   "metadata": {
    "id": "7e6gS0wL1KTu"
   },
   "source": [
    "#### ***Dataset 1 (Books DataSet)***"
   ]
  },
  {
   "cell_type": "markdown",
   "metadata": {},
   "source": [
    "Type:  CSV File.\n",
    "\n",
    "Method: Programmatically downloading files\n",
    "\n",
    "This dataset about books has been selected among other datasets because its have more features that can be used to analyse the data compared to other datasets\n",
    "\n",
    "Dataset variables:\n",
    "\n",
    "| Features       | Description                                       |\n",
    "|----------------|---------------------------------------------------|\n",
    "| Title          | Book Title                                        |\n",
    "| Descripe       | Description of the book                           |\n",
    "| authors        | Name of book authors                              |\n",
    "| image          | URL for book cover                                |\n",
    "| previewLink    | Link to access this book on Google Books          |\n",
    "| publisher      | Name of the publisher                             |\n",
    "| publishedDate  | The date of publish                               |\n",
    "| infoLink       | Link to get more information about the book on Google Books |\n",
    "| categories     | Genres of books                                   |\n",
    "| ratingsCount   | Averaging rating for book                         |\n",
    "\n"
   ]
  },
  {
   "cell_type": "code",
   "execution_count": 5,
   "metadata": {
    "id": "Su8E0uLuYkHU"
   },
   "outputs": [],
   "source": [
    "\n",
    "\n",
    "#Make directory to save datasets\n",
    "os.makedirs('datasets/raw_data', exist_ok=True)"
   ]
  },
  {
   "cell_type": "code",
   "execution_count": 6,
   "metadata": {},
   "outputs": [
    {
     "name": "stdout",
     "output_type": "stream",
     "text": [
      "Dataset URL: https://www.kaggle.com/datasets/mohamedbakhet/amazon-books-reviews\n"
     ]
    },
    {
     "data": {
      "text/plain": [
       "True"
      ]
     },
     "execution_count": 6,
     "metadata": {},
     "output_type": "execute_result"
    }
   ],
   "source": [
    "\n",
    "\n",
    "# Set up Kaggle API\n",
    "api = KaggleApi()\n",
    "# Define the dataset and file to download\n",
    "dataset = 'mohamedbakhet/amazon-books-reviews'  # Replace with the appropriate dataset path\n",
    "file_name = 'books_data.csv'  # Replace with the specific file you want to download\n",
    "path='./datasets/raw_data'\n",
    "# Download the specific file\n",
    "api.dataset_download_file(dataset, file_name, path=path)\n",
    "\n"
   ]
  },
  {
   "cell_type": "code",
   "execution_count": 7,
   "metadata": {},
   "outputs": [
    {
     "name": "stdout",
     "output_type": "stream",
     "text": [
      "books_data.csv has been downloaded and extracted.\n"
     ]
    }
   ],
   "source": [
    "#Extract the file if it is downloaded as a zip file\n",
    "with zipfile.ZipFile(path+\"/\"+file_name + '.zip', 'r') as zip_ref:\n",
    "    zip_ref.extractall(path+\"/\")\n",
    "os.remove(path+\"/\"+file_name + '.zip')\n",
    "\n",
    "print(f\"{file_name} has been downloaded and extracted.\")"
   ]
  },
  {
   "cell_type": "code",
   "execution_count": 8,
   "metadata": {},
   "outputs": [],
   "source": [
    "\n",
    "#Load the data\n",
    "books_data_df = pd.read_csv('datasets/raw_data/books_data.csv') "
   ]
  },
  {
   "cell_type": "markdown",
   "metadata": {
    "id": "hoUjq1tPzz7P"
   },
   "source": [
    "#### ***Dataset 2 (Books Rating Dataset)***"
   ]
  },
  {
   "cell_type": "markdown",
   "metadata": {},
   "source": [
    "\n",
    "Type:  CSV File\n",
    "\n",
    "Method: Download data manually\n",
    "Link to download the dataset:  https://drive.google.com/file/d/1ZSPtfe0z09JU021tyL-qhB5h4v68P6es/view?usp=sharing\n",
    "Also the source of the data can be accessed from this link : https://www.kaggle.com/datasets/mohamedbakhet/amazon-books-reviews?select=Books_rating.csv\n",
    "\n",
    "This dataset about books reviews and rating has been selected among other datasets because its have relation between the first dataset, to make it possible to combine them together\n",
    "\n",
    "Dataset variables:\n",
    "\n",
    "| Features             | Description                                   |\n",
    "|----------------------|-----------------------------------------------|\n",
    "| id                   | The Id of Book                                |\n",
    "| Title                | Book Title                                    |\n",
    "| Price                | The price of Book                             |\n",
    "| User_id              | Id of the user who rates the book             |\n",
    "| profileName          | Name of the user who rates the book           |\n",
    "| review/helpfulness   | Helpfulness rating of the review   |\n",
    "| review/score         | Rating from 0 to 5 for the book               |\n",
    "| review/time          | Time of given the review                      |\n",
    "| review/summary       | The summary of a text review                  |\n",
    "| review/text          | The full text of a review                     |"
   ]
  },
  {
   "cell_type": "code",
   "execution_count": 9,
   "metadata": {},
   "outputs": [],
   "source": [
    "\n",
    "#Load the data\n",
    "books_rating_df = pd.read_csv('datasets/raw_data/books_rating.csv') "
   ]
  },
  {
   "cell_type": "markdown",
   "metadata": {},
   "source": [
    "#### ***Conclusion***"
   ]
  },
  {
   "cell_type": "markdown",
   "metadata": {},
   "source": [
    "- `In the Gathering Data step, two datasets were downloaded using two methods:`\n",
    "    - `Programmatically downloading file.`\n",
    "    - `Downloading data manually`\n",
    "- `The datasets have been downloaded from Kaggle.`\n",
    "\n",
    "\n",
    "- `The dataset that has been downloaded programmatically was done using the Kaggle API to download the dataset file. It was then unzipped to extract the CSV file from it, and finally, the file was saved in a folder in the workspace.`"
   ]
  },
  {
   "cell_type": "markdown",
   "metadata": {
    "id": "QwSWIVmotLgV"
   },
   "source": [
    "## 2. Assess data"
   ]
  },
  {
   "cell_type": "markdown",
   "metadata": {},
   "source": [
    "`This section will assess the data both programmatically and visually to identify problems with quality and tidiness.`\n",
    "\n",
    "\n",
    "`I will go over the issues that have been discovered for every dataset in the end of each section.`"
   ]
  },
  {
   "cell_type": "markdown",
   "metadata": {
    "id": "adaK2iPNzVu4"
   },
   "source": [
    "### ***A. Assess Data Quality Visually:***"
   ]
  },
  {
   "cell_type": "markdown",
   "metadata": {},
   "source": [
    "#### ***Books Dataset***"
   ]
  },
  {
   "cell_type": "markdown",
   "metadata": {},
   "source": [
    "`In this section will analyze the books data visually`"
   ]
  },
  {
   "cell_type": "code",
   "execution_count": 10,
   "metadata": {},
   "outputs": [
    {
     "name": "stdout",
     "output_type": "stream",
     "text": [
      "The columns for the books dataset are:\n",
      "['Title', 'description', 'authors', 'image', 'previewLink', 'publisher', 'publishedDate', 'infoLink', 'categories', 'ratingsCount']\n"
     ]
    }
   ],
   "source": [
    "#Print the name of the columns for the books data\n",
    "print(\"The columns for the books dataset are:\")\n",
    "print(books_data_df.columns.to_list())"
   ]
  },
  {
   "cell_type": "code",
   "execution_count": 11,
   "metadata": {
    "id": "SpW59kh-zl8d"
   },
   "outputs": [
    {
     "data": {
      "text/html": [
       "<div>\n",
       "<style scoped>\n",
       "    .dataframe tbody tr th:only-of-type {\n",
       "        vertical-align: middle;\n",
       "    }\n",
       "\n",
       "    .dataframe tbody tr th {\n",
       "        vertical-align: top;\n",
       "    }\n",
       "\n",
       "    .dataframe thead th {\n",
       "        text-align: right;\n",
       "    }\n",
       "</style>\n",
       "<table border=\"1\" class=\"dataframe\">\n",
       "  <thead>\n",
       "    <tr style=\"text-align: right;\">\n",
       "      <th></th>\n",
       "      <th>Title</th>\n",
       "      <th>description</th>\n",
       "      <th>authors</th>\n",
       "      <th>image</th>\n",
       "      <th>previewLink</th>\n",
       "      <th>publisher</th>\n",
       "      <th>publishedDate</th>\n",
       "      <th>infoLink</th>\n",
       "      <th>categories</th>\n",
       "      <th>ratingsCount</th>\n",
       "    </tr>\n",
       "  </thead>\n",
       "  <tbody>\n",
       "    <tr>\n",
       "      <th>37004</th>\n",
       "      <td>Murder Runs in the Family: A Southern Sisters ...</td>\n",
       "      <td>Mary Alice has spared nothing for her only dau...</td>\n",
       "      <td>['Anne George']</td>\n",
       "      <td>http://books.google.com/books/content?id=g1VfY...</td>\n",
       "      <td>http://books.google.com/books?id=g1VfYL0scI0C&amp;...</td>\n",
       "      <td>Harper Collins</td>\n",
       "      <td>2009-02-24</td>\n",
       "      <td>https://play.google.com/store/books/details?id...</td>\n",
       "      <td>['Fiction']</td>\n",
       "      <td>6.0</td>\n",
       "    </tr>\n",
       "    <tr>\n",
       "      <th>172510</th>\n",
       "      <td>The Greek &amp; Latin Roots of English</td>\n",
       "      <td>NaN</td>\n",
       "      <td>NaN</td>\n",
       "      <td>NaN</td>\n",
       "      <td>NaN</td>\n",
       "      <td>NaN</td>\n",
       "      <td>NaN</td>\n",
       "      <td>NaN</td>\n",
       "      <td>NaN</td>\n",
       "      <td>NaN</td>\n",
       "    </tr>\n",
       "    <tr>\n",
       "      <th>196131</th>\n",
       "      <td>King's Quest 1: The Floating Castle</td>\n",
       "      <td>The peaceful world of Danventry is shattered b...</td>\n",
       "      <td>['Craig Mills']</td>\n",
       "      <td>NaN</td>\n",
       "      <td>http://books.google.com/books?id=KbjvAAAACAAJ&amp;...</td>\n",
       "      <td>Boulevard</td>\n",
       "      <td>1995</td>\n",
       "      <td>http://books.google.com/books?id=KbjvAAAACAAJ&amp;...</td>\n",
       "      <td>['Fiction']</td>\n",
       "      <td>NaN</td>\n",
       "    </tr>\n",
       "    <tr>\n",
       "      <th>155633</th>\n",
       "      <td>Women and Men</td>\n",
       "      <td>NaN</td>\n",
       "      <td>['Joseph McElroy']</td>\n",
       "      <td>http://books.google.com/books/content?id=nvVQD...</td>\n",
       "      <td>http://books.google.com/books?id=nvVQDQEACAAJ&amp;...</td>\n",
       "      <td>NaN</td>\n",
       "      <td>2017</td>\n",
       "      <td>http://books.google.com/books?id=nvVQDQEACAAJ&amp;...</td>\n",
       "      <td>NaN</td>\n",
       "      <td>NaN</td>\n",
       "    </tr>\n",
       "    <tr>\n",
       "      <th>156944</th>\n",
       "      <td>Gems and Jewels Uncut Stones and Objets D'Art</td>\n",
       "      <td>NaN</td>\n",
       "      <td>NaN</td>\n",
       "      <td>NaN</td>\n",
       "      <td>http://books.google.com/books?id=HP98jgEACAAJ&amp;...</td>\n",
       "      <td>NaN</td>\n",
       "      <td>1971</td>\n",
       "      <td>http://books.google.com/books?id=HP98jgEACAAJ&amp;...</td>\n",
       "      <td>['Gems']</td>\n",
       "      <td>NaN</td>\n",
       "    </tr>\n",
       "    <tr>\n",
       "      <th>156532</th>\n",
       "      <td>Dearly, Nearly, Insincerely: What Is an Adverb...</td>\n",
       "      <td>Audisee® eBooks with Audio combine professiona...</td>\n",
       "      <td>['Brian P. Cleary']</td>\n",
       "      <td>http://books.google.com/books/content?id=r98iE...</td>\n",
       "      <td>http://books.google.com/books?id=r98iEAAAQBAJ&amp;...</td>\n",
       "      <td>Lerner Digital ™</td>\n",
       "      <td>2017-08-01</td>\n",
       "      <td>https://play.google.com/store/books/details?id...</td>\n",
       "      <td>['Juvenile Nonfiction']</td>\n",
       "      <td>1.0</td>\n",
       "    </tr>\n",
       "    <tr>\n",
       "      <th>208154</th>\n",
       "      <td>N C Wyeths Pilgrims</td>\n",
       "      <td>Recounts the coming of the Pilgrims to America...</td>\n",
       "      <td>['Robert D. San Souci']</td>\n",
       "      <td>http://books.google.com/books/content?id=QGspI...</td>\n",
       "      <td>http://books.google.com/books?id=QGspIYJGtC0C&amp;...</td>\n",
       "      <td>Chronicle Books</td>\n",
       "      <td>1996-09</td>\n",
       "      <td>http://books.google.com/books?id=QGspIYJGtC0C&amp;...</td>\n",
       "      <td>['Juvenile Fiction']</td>\n",
       "      <td>3.0</td>\n",
       "    </tr>\n",
       "    <tr>\n",
       "      <th>116763</th>\n",
       "      <td>Surmounting the Barricades: Women in the Paris...</td>\n",
       "      <td>This book vividly evokes radical women's integ...</td>\n",
       "      <td>['Carolyn Jeanne Eichner']</td>\n",
       "      <td>http://books.google.com/books/content?id=cHMRn...</td>\n",
       "      <td>http://books.google.nl/books?id=cHMRngEACAAJ&amp;d...</td>\n",
       "      <td>NaN</td>\n",
       "      <td>2004</td>\n",
       "      <td>http://books.google.nl/books?id=cHMRngEACAAJ&amp;d...</td>\n",
       "      <td>['History']</td>\n",
       "      <td>NaN</td>\n",
       "    </tr>\n",
       "    <tr>\n",
       "      <th>81657</th>\n",
       "      <td>Rebound to Better Health</td>\n",
       "      <td>NaN</td>\n",
       "      <td>NaN</td>\n",
       "      <td>NaN</td>\n",
       "      <td>NaN</td>\n",
       "      <td>NaN</td>\n",
       "      <td>NaN</td>\n",
       "      <td>NaN</td>\n",
       "      <td>NaN</td>\n",
       "      <td>NaN</td>\n",
       "    </tr>\n",
       "    <tr>\n",
       "      <th>96084</th>\n",
       "      <td>General Chemistry With Student Technical Packa...</td>\n",
       "      <td>NaN</td>\n",
       "      <td>['Ebbing']</td>\n",
       "      <td>NaN</td>\n",
       "      <td>http://books.google.com/books?id=4MKNAAAACAAJ&amp;...</td>\n",
       "      <td>NaN</td>\n",
       "      <td>2002-01-01</td>\n",
       "      <td>http://books.google.com/books?id=4MKNAAAACAAJ&amp;...</td>\n",
       "      <td>NaN</td>\n",
       "      <td>NaN</td>\n",
       "    </tr>\n",
       "    <tr>\n",
       "      <th>19649</th>\n",
       "      <td>Sacred Love (Arabesque)</td>\n",
       "      <td>When her beloved Great-Uncle is murdered durin...</td>\n",
       "      <td>['Shelby Lewis']</td>\n",
       "      <td>http://books.google.com/books/content?id=C-iSJ...</td>\n",
       "      <td>http://books.google.nl/books?id=C-iSJzYGNpcC&amp;q...</td>\n",
       "      <td>Harlequin Kimani</td>\n",
       "      <td>2001-08-01</td>\n",
       "      <td>http://books.google.nl/books?id=C-iSJzYGNpcC&amp;d...</td>\n",
       "      <td>['Fiction']</td>\n",
       "      <td>NaN</td>\n",
       "    </tr>\n",
       "    <tr>\n",
       "      <th>129233</th>\n",
       "      <td>The Politics of Information Management: Policy...</td>\n",
       "      <td>Digital Information Design (DID) is een framew...</td>\n",
       "      <td>['Brian Johnson', 'Léon-Paul de Rouw']</td>\n",
       "      <td>http://books.google.com/books/content?id=ZWEtE...</td>\n",
       "      <td>http://books.google.nl/books?id=ZWEtEAAAQBAJ&amp;p...</td>\n",
       "      <td>Van Haren</td>\n",
       "      <td>2021-05-18</td>\n",
       "      <td>https://play.google.com/store/books/details?id...</td>\n",
       "      <td>['Education']</td>\n",
       "      <td>NaN</td>\n",
       "    </tr>\n",
       "    <tr>\n",
       "      <th>175107</th>\n",
       "      <td>Just Our Best Short Stories 2005</td>\n",
       "      <td>This is a collection of short stories written ...</td>\n",
       "      <td>['Janet Sue Terry']</td>\n",
       "      <td>http://books.google.com/books/content?id=Q85uZ...</td>\n",
       "      <td>http://books.google.com/books?id=Q85uZrWB8ZYC&amp;...</td>\n",
       "      <td>Just My Best Publishing Company</td>\n",
       "      <td>2005-05</td>\n",
       "      <td>http://books.google.com/books?id=Q85uZrWB8ZYC&amp;...</td>\n",
       "      <td>['Fiction']</td>\n",
       "      <td>NaN</td>\n",
       "    </tr>\n",
       "    <tr>\n",
       "      <th>195779</th>\n",
       "      <td>A handbook of public speaking,</td>\n",
       "      <td>A Handbook of Public Speaking for Scientists a...</td>\n",
       "      <td>['Peter Kenny']</td>\n",
       "      <td>http://books.google.com/books/content?id=nk4q7...</td>\n",
       "      <td>http://books.google.com/books?id=nk4q79aVL6oC&amp;...</td>\n",
       "      <td>CRC Press</td>\n",
       "      <td>1982-01-01</td>\n",
       "      <td>http://books.google.com/books?id=nk4q79aVL6oC&amp;...</td>\n",
       "      <td>['Science']</td>\n",
       "      <td>NaN</td>\n",
       "    </tr>\n",
       "    <tr>\n",
       "      <th>129477</th>\n",
       "      <td>The Amazing Career of Bernadotte 1763 to 1844</td>\n",
       "      <td>NaN</td>\n",
       "      <td>['bart Barton (Sir Dunbar Plunket)']</td>\n",
       "      <td>NaN</td>\n",
       "      <td>http://books.google.nl/books?id=5mAMzgEACAAJ&amp;d...</td>\n",
       "      <td>NaN</td>\n",
       "      <td>1929</td>\n",
       "      <td>http://books.google.nl/books?id=5mAMzgEACAAJ&amp;d...</td>\n",
       "      <td>['Europe']</td>\n",
       "      <td>NaN</td>\n",
       "    </tr>\n",
       "    <tr>\n",
       "      <th>202222</th>\n",
       "      <td>A Mirror for the Church: Preaching in the Firs...</td>\n",
       "      <td>It might be assumed that Christian preachers h...</td>\n",
       "      <td>['David Dunn-Wilson']</td>\n",
       "      <td>http://books.google.com/books/content?id=Ym4S7...</td>\n",
       "      <td>http://books.google.com/books?id=Ym4S7g78V5MC&amp;...</td>\n",
       "      <td>Wm. B. Eerdmans Publishing</td>\n",
       "      <td>2005</td>\n",
       "      <td>http://books.google.com/books?id=Ym4S7g78V5MC&amp;...</td>\n",
       "      <td>['Religion']</td>\n",
       "      <td>1.0</td>\n",
       "    </tr>\n",
       "    <tr>\n",
       "      <th>168471</th>\n",
       "      <td>The steppe, and other stories,</td>\n",
       "      <td>The first of Chekhov's works to be published i...</td>\n",
       "      <td>['Anton Chekhov']</td>\n",
       "      <td>http://books.google.com/books/content?id=ridHP...</td>\n",
       "      <td>http://books.google.com/books?id=ridHPwAACAAJ&amp;...</td>\n",
       "      <td>Oxford Paperbacks</td>\n",
       "      <td>2009-06-25</td>\n",
       "      <td>http://books.google.com/books?id=ridHPwAACAAJ&amp;...</td>\n",
       "      <td>['Fiction']</td>\n",
       "      <td>2.0</td>\n",
       "    </tr>\n",
       "    <tr>\n",
       "      <th>204470</th>\n",
       "      <td>The world of Giotto, c. 1267-1337 (Time-Life l...</td>\n",
       "      <td>NaN</td>\n",
       "      <td>NaN</td>\n",
       "      <td>NaN</td>\n",
       "      <td>NaN</td>\n",
       "      <td>NaN</td>\n",
       "      <td>NaN</td>\n",
       "      <td>NaN</td>\n",
       "      <td>NaN</td>\n",
       "      <td>NaN</td>\n",
       "    </tr>\n",
       "    <tr>\n",
       "      <th>54797</th>\n",
       "      <td>Germanicus Mosaic</td>\n",
       "      <td>Book one in Rosemary Rowe's Libertus series: '...</td>\n",
       "      <td>['Rosemary Rowe']</td>\n",
       "      <td>http://books.google.com/books/content?id=LAo6A...</td>\n",
       "      <td>http://books.google.com/books?id=LAo6AgAAQBAJ&amp;...</td>\n",
       "      <td>Headline</td>\n",
       "      <td>2013-04-11</td>\n",
       "      <td>https://play.google.com/store/books/details?id...</td>\n",
       "      <td>['Fiction']</td>\n",
       "      <td>1.0</td>\n",
       "    </tr>\n",
       "    <tr>\n",
       "      <th>127915</th>\n",
       "      <td>Failsafe Is Project Delivery</td>\n",
       "      <td>This title was first published in 2001. Based ...</td>\n",
       "      <td>['Andrew Holmes']</td>\n",
       "      <td>http://books.google.com/books/content?id=osVKD...</td>\n",
       "      <td>http://books.google.nl/books?id=osVKDwAAQBAJ&amp;p...</td>\n",
       "      <td>Routledge</td>\n",
       "      <td>2018-02-05</td>\n",
       "      <td>https://play.google.com/store/books/details?id...</td>\n",
       "      <td>['Social Science']</td>\n",
       "      <td>1.0</td>\n",
       "    </tr>\n",
       "  </tbody>\n",
       "</table>\n",
       "</div>"
      ],
      "text/plain": [
       "                                                    Title  \\\n",
       "37004   Murder Runs in the Family: A Southern Sisters ...   \n",
       "172510                 The Greek & Latin Roots of English   \n",
       "196131                King's Quest 1: The Floating Castle   \n",
       "155633                                      Women and Men   \n",
       "156944      Gems and Jewels Uncut Stones and Objets D'Art   \n",
       "156532  Dearly, Nearly, Insincerely: What Is an Adverb...   \n",
       "208154                                N C Wyeths Pilgrims   \n",
       "116763  Surmounting the Barricades: Women in the Paris...   \n",
       "81657                            Rebound to Better Health   \n",
       "96084   General Chemistry With Student Technical Packa...   \n",
       "19649                             Sacred Love (Arabesque)   \n",
       "129233  The Politics of Information Management: Policy...   \n",
       "175107                   Just Our Best Short Stories 2005   \n",
       "195779                     A handbook of public speaking,   \n",
       "129477      The Amazing Career of Bernadotte 1763 to 1844   \n",
       "202222  A Mirror for the Church: Preaching in the Firs...   \n",
       "168471                     The steppe, and other stories,   \n",
       "204470  The world of Giotto, c. 1267-1337 (Time-Life l...   \n",
       "54797                                   Germanicus Mosaic   \n",
       "127915                       Failsafe Is Project Delivery   \n",
       "\n",
       "                                              description  \\\n",
       "37004   Mary Alice has spared nothing for her only dau...   \n",
       "172510                                                NaN   \n",
       "196131  The peaceful world of Danventry is shattered b...   \n",
       "155633                                                NaN   \n",
       "156944                                                NaN   \n",
       "156532  Audisee® eBooks with Audio combine professiona...   \n",
       "208154  Recounts the coming of the Pilgrims to America...   \n",
       "116763  This book vividly evokes radical women's integ...   \n",
       "81657                                                 NaN   \n",
       "96084                                                 NaN   \n",
       "19649   When her beloved Great-Uncle is murdered durin...   \n",
       "129233  Digital Information Design (DID) is een framew...   \n",
       "175107  This is a collection of short stories written ...   \n",
       "195779  A Handbook of Public Speaking for Scientists a...   \n",
       "129477                                                NaN   \n",
       "202222  It might be assumed that Christian preachers h...   \n",
       "168471  The first of Chekhov's works to be published i...   \n",
       "204470                                                NaN   \n",
       "54797   Book one in Rosemary Rowe's Libertus series: '...   \n",
       "127915  This title was first published in 2001. Based ...   \n",
       "\n",
       "                                       authors  \\\n",
       "37004                          ['Anne George']   \n",
       "172510                                     NaN   \n",
       "196131                         ['Craig Mills']   \n",
       "155633                      ['Joseph McElroy']   \n",
       "156944                                     NaN   \n",
       "156532                     ['Brian P. Cleary']   \n",
       "208154                 ['Robert D. San Souci']   \n",
       "116763              ['Carolyn Jeanne Eichner']   \n",
       "81657                                      NaN   \n",
       "96084                               ['Ebbing']   \n",
       "19649                         ['Shelby Lewis']   \n",
       "129233  ['Brian Johnson', 'Léon-Paul de Rouw']   \n",
       "175107                     ['Janet Sue Terry']   \n",
       "195779                         ['Peter Kenny']   \n",
       "129477    ['bart Barton (Sir Dunbar Plunket)']   \n",
       "202222                   ['David Dunn-Wilson']   \n",
       "168471                       ['Anton Chekhov']   \n",
       "204470                                     NaN   \n",
       "54797                        ['Rosemary Rowe']   \n",
       "127915                       ['Andrew Holmes']   \n",
       "\n",
       "                                                    image  \\\n",
       "37004   http://books.google.com/books/content?id=g1VfY...   \n",
       "172510                                                NaN   \n",
       "196131                                                NaN   \n",
       "155633  http://books.google.com/books/content?id=nvVQD...   \n",
       "156944                                                NaN   \n",
       "156532  http://books.google.com/books/content?id=r98iE...   \n",
       "208154  http://books.google.com/books/content?id=QGspI...   \n",
       "116763  http://books.google.com/books/content?id=cHMRn...   \n",
       "81657                                                 NaN   \n",
       "96084                                                 NaN   \n",
       "19649   http://books.google.com/books/content?id=C-iSJ...   \n",
       "129233  http://books.google.com/books/content?id=ZWEtE...   \n",
       "175107  http://books.google.com/books/content?id=Q85uZ...   \n",
       "195779  http://books.google.com/books/content?id=nk4q7...   \n",
       "129477                                                NaN   \n",
       "202222  http://books.google.com/books/content?id=Ym4S7...   \n",
       "168471  http://books.google.com/books/content?id=ridHP...   \n",
       "204470                                                NaN   \n",
       "54797   http://books.google.com/books/content?id=LAo6A...   \n",
       "127915  http://books.google.com/books/content?id=osVKD...   \n",
       "\n",
       "                                              previewLink  \\\n",
       "37004   http://books.google.com/books?id=g1VfYL0scI0C&...   \n",
       "172510                                                NaN   \n",
       "196131  http://books.google.com/books?id=KbjvAAAACAAJ&...   \n",
       "155633  http://books.google.com/books?id=nvVQDQEACAAJ&...   \n",
       "156944  http://books.google.com/books?id=HP98jgEACAAJ&...   \n",
       "156532  http://books.google.com/books?id=r98iEAAAQBAJ&...   \n",
       "208154  http://books.google.com/books?id=QGspIYJGtC0C&...   \n",
       "116763  http://books.google.nl/books?id=cHMRngEACAAJ&d...   \n",
       "81657                                                 NaN   \n",
       "96084   http://books.google.com/books?id=4MKNAAAACAAJ&...   \n",
       "19649   http://books.google.nl/books?id=C-iSJzYGNpcC&q...   \n",
       "129233  http://books.google.nl/books?id=ZWEtEAAAQBAJ&p...   \n",
       "175107  http://books.google.com/books?id=Q85uZrWB8ZYC&...   \n",
       "195779  http://books.google.com/books?id=nk4q79aVL6oC&...   \n",
       "129477  http://books.google.nl/books?id=5mAMzgEACAAJ&d...   \n",
       "202222  http://books.google.com/books?id=Ym4S7g78V5MC&...   \n",
       "168471  http://books.google.com/books?id=ridHPwAACAAJ&...   \n",
       "204470                                                NaN   \n",
       "54797   http://books.google.com/books?id=LAo6AgAAQBAJ&...   \n",
       "127915  http://books.google.nl/books?id=osVKDwAAQBAJ&p...   \n",
       "\n",
       "                              publisher publishedDate  \\\n",
       "37004                    Harper Collins    2009-02-24   \n",
       "172510                              NaN           NaN   \n",
       "196131                        Boulevard          1995   \n",
       "155633                              NaN          2017   \n",
       "156944                              NaN          1971   \n",
       "156532                 Lerner Digital ™    2017-08-01   \n",
       "208154                  Chronicle Books       1996-09   \n",
       "116763                              NaN          2004   \n",
       "81657                               NaN           NaN   \n",
       "96084                               NaN    2002-01-01   \n",
       "19649                  Harlequin Kimani    2001-08-01   \n",
       "129233                        Van Haren    2021-05-18   \n",
       "175107  Just My Best Publishing Company       2005-05   \n",
       "195779                        CRC Press    1982-01-01   \n",
       "129477                              NaN          1929   \n",
       "202222       Wm. B. Eerdmans Publishing          2005   \n",
       "168471                Oxford Paperbacks    2009-06-25   \n",
       "204470                              NaN           NaN   \n",
       "54797                          Headline    2013-04-11   \n",
       "127915                        Routledge    2018-02-05   \n",
       "\n",
       "                                                 infoLink  \\\n",
       "37004   https://play.google.com/store/books/details?id...   \n",
       "172510                                                NaN   \n",
       "196131  http://books.google.com/books?id=KbjvAAAACAAJ&...   \n",
       "155633  http://books.google.com/books?id=nvVQDQEACAAJ&...   \n",
       "156944  http://books.google.com/books?id=HP98jgEACAAJ&...   \n",
       "156532  https://play.google.com/store/books/details?id...   \n",
       "208154  http://books.google.com/books?id=QGspIYJGtC0C&...   \n",
       "116763  http://books.google.nl/books?id=cHMRngEACAAJ&d...   \n",
       "81657                                                 NaN   \n",
       "96084   http://books.google.com/books?id=4MKNAAAACAAJ&...   \n",
       "19649   http://books.google.nl/books?id=C-iSJzYGNpcC&d...   \n",
       "129233  https://play.google.com/store/books/details?id...   \n",
       "175107  http://books.google.com/books?id=Q85uZrWB8ZYC&...   \n",
       "195779  http://books.google.com/books?id=nk4q79aVL6oC&...   \n",
       "129477  http://books.google.nl/books?id=5mAMzgEACAAJ&d...   \n",
       "202222  http://books.google.com/books?id=Ym4S7g78V5MC&...   \n",
       "168471  http://books.google.com/books?id=ridHPwAACAAJ&...   \n",
       "204470                                                NaN   \n",
       "54797   https://play.google.com/store/books/details?id...   \n",
       "127915  https://play.google.com/store/books/details?id...   \n",
       "\n",
       "                     categories  ratingsCount  \n",
       "37004               ['Fiction']           6.0  \n",
       "172510                      NaN           NaN  \n",
       "196131              ['Fiction']           NaN  \n",
       "155633                      NaN           NaN  \n",
       "156944                 ['Gems']           NaN  \n",
       "156532  ['Juvenile Nonfiction']           1.0  \n",
       "208154     ['Juvenile Fiction']           3.0  \n",
       "116763              ['History']           NaN  \n",
       "81657                       NaN           NaN  \n",
       "96084                       NaN           NaN  \n",
       "19649               ['Fiction']           NaN  \n",
       "129233            ['Education']           NaN  \n",
       "175107              ['Fiction']           NaN  \n",
       "195779              ['Science']           NaN  \n",
       "129477               ['Europe']           NaN  \n",
       "202222             ['Religion']           1.0  \n",
       "168471              ['Fiction']           2.0  \n",
       "204470                      NaN           NaN  \n",
       "54797               ['Fiction']           1.0  \n",
       "127915       ['Social Science']           1.0  "
      ]
     },
     "execution_count": 11,
     "metadata": {},
     "output_type": "execute_result"
    }
   ],
   "source": [
    "\n"
   ]
  },
  {
   "cell_type": "markdown",
   "metadata": {},
   "source": [
    "#### ***Books Rating Dataset***"
   ]
  },
  {
   "cell_type": "markdown",
   "metadata": {},
   "source": [
    "`In this section will analyze the books rating data visually `"
   ]
  },
  {
   "cell_type": "code",
   "execution_count": 12,
   "metadata": {},
   "outputs": [
    {
     "name": "stdout",
     "output_type": "stream",
     "text": [
      "The columns for the books rating dataset are:\n",
      "['Id', 'Title', 'Price', 'User_id', 'profileName', 'review/helpfulness', 'review/score', 'review/time', 'review/summary', 'review/text']\n"
     ]
    }
   ],
   "source": [
    "#Print the name of the columns for the books rating data\n",
    "print(\"The columns for the books rating dataset are:\")\n",
    "print(books_rating_df.columns.to_list())"
   ]
  },
  {
   "cell_type": "code",
   "execution_count": 13,
   "metadata": {
    "id": "-qfcocStzsKg"
   },
   "outputs": [
    {
     "data": {
      "text/html": [
       "<div>\n",
       "<style scoped>\n",
       "    .dataframe tbody tr th:only-of-type {\n",
       "        vertical-align: middle;\n",
       "    }\n",
       "\n",
       "    .dataframe tbody tr th {\n",
       "        vertical-align: top;\n",
       "    }\n",
       "\n",
       "    .dataframe thead th {\n",
       "        text-align: right;\n",
       "    }\n",
       "</style>\n",
       "<table border=\"1\" class=\"dataframe\">\n",
       "  <thead>\n",
       "    <tr style=\"text-align: right;\">\n",
       "      <th></th>\n",
       "      <th>Id</th>\n",
       "      <th>Title</th>\n",
       "      <th>Price</th>\n",
       "      <th>User_id</th>\n",
       "      <th>profileName</th>\n",
       "      <th>review/helpfulness</th>\n",
       "      <th>review/score</th>\n",
       "      <th>review/time</th>\n",
       "      <th>review/summary</th>\n",
       "      <th>review/text</th>\n",
       "    </tr>\n",
       "  </thead>\n",
       "  <tbody>\n",
       "    <tr>\n",
       "      <th>35940</th>\n",
       "      <td>B000G3LQ9K</td>\n",
       "      <td>PAVILION OF WOMEN</td>\n",
       "      <td>NaN</td>\n",
       "      <td>A1EDK3B5HVJRJK</td>\n",
       "      <td>D. Johnson</td>\n",
       "      <td>0/0</td>\n",
       "      <td>5.0</td>\n",
       "      <td>1356998400</td>\n",
       "      <td>Diane of Ann Arbor</td>\n",
       "      <td>I am so glad to finally see Pearl Buck's timel...</td>\n",
       "    </tr>\n",
       "    <tr>\n",
       "      <th>95028</th>\n",
       "      <td>0754053822</td>\n",
       "      <td>Disgrace: Complete &amp; Unabridged</td>\n",
       "      <td>NaN</td>\n",
       "      <td>A15CFQRQSSK946</td>\n",
       "      <td>C. Macauley \"cmacauley\"</td>\n",
       "      <td>1/1</td>\n",
       "      <td>3.0</td>\n",
       "      <td>1253664000</td>\n",
       "      <td>Not Good, Not Bad</td>\n",
       "      <td>I was disappointed, after having readLife and ...</td>\n",
       "    </tr>\n",
       "    <tr>\n",
       "      <th>26270</th>\n",
       "      <td>9994790161</td>\n",
       "      <td>Raptor</td>\n",
       "      <td>NaN</td>\n",
       "      <td>A1D8L19RXU14Q3</td>\n",
       "      <td>S. Padalino</td>\n",
       "      <td>2/4</td>\n",
       "      <td>5.0</td>\n",
       "      <td>1152662400</td>\n",
       "      <td>Easily my favorite by Jennings</td>\n",
       "      <td>I loved this book. Anyone with a Europen herit...</td>\n",
       "    </tr>\n",
       "    <tr>\n",
       "      <th>30996</th>\n",
       "      <td>0399142347</td>\n",
       "      <td>Stone Angel (Kathleen Mallory Novels)</td>\n",
       "      <td>NaN</td>\n",
       "      <td>A3CDA604S8GWBZ</td>\n",
       "      <td>MLW \"mlw22\"</td>\n",
       "      <td>1/1</td>\n",
       "      <td>5.0</td>\n",
       "      <td>897523200</td>\n",
       "      <td>Absolutely stunning.</td>\n",
       "      <td>I loved the first book in this series but was ...</td>\n",
       "    </tr>\n",
       "    <tr>\n",
       "      <th>19905</th>\n",
       "      <td>1560232153</td>\n",
       "      <td>Treat</td>\n",
       "      <td>NaN</td>\n",
       "      <td>A2XL13A9ERA0XY</td>\n",
       "      <td>M. J. Lowe \"www.mjlowe.info\"</td>\n",
       "      <td>7/8</td>\n",
       "      <td>4.0</td>\n",
       "      <td>1017014400</td>\n",
       "      <td>True to its title,</td>\n",
       "      <td>A blonde, blue eyed, wealthy sorority girl, en...</td>\n",
       "    </tr>\n",
       "    <tr>\n",
       "      <th>75247</th>\n",
       "      <td>0613674650</td>\n",
       "      <td>Me Talk Pretty One Day (Turtleback School &amp; Li...</td>\n",
       "      <td>NaN</td>\n",
       "      <td>A2TZS45LNNAIEP</td>\n",
       "      <td>Dann Fox</td>\n",
       "      <td>0/0</td>\n",
       "      <td>3.0</td>\n",
       "      <td>1104883200</td>\n",
       "      <td>It's ok.</td>\n",
       "      <td>The parts about his troubles growing up with i...</td>\n",
       "    </tr>\n",
       "    <tr>\n",
       "      <th>80596</th>\n",
       "      <td>B000GRH51Y</td>\n",
       "      <td>Eden Close</td>\n",
       "      <td>NaN</td>\n",
       "      <td>A2LJ67PC9I0QUV</td>\n",
       "      <td>\"shavanda\"</td>\n",
       "      <td>4/4</td>\n",
       "      <td>5.0</td>\n",
       "      <td>992476800</td>\n",
       "      <td>Suspense</td>\n",
       "      <td>When I read the Pilot's Wife I was very impres...</td>\n",
       "    </tr>\n",
       "    <tr>\n",
       "      <th>42905</th>\n",
       "      <td>1582790485</td>\n",
       "      <td>Signature Classics - Great Expectations (Signa...</td>\n",
       "      <td>NaN</td>\n",
       "      <td>NaN</td>\n",
       "      <td>NaN</td>\n",
       "      <td>0/0</td>\n",
       "      <td>4.0</td>\n",
       "      <td>987984000</td>\n",
       "      <td>Just Great!</td>\n",
       "      <td>Great Expectaitons by Charles Dickens is a goo...</td>\n",
       "    </tr>\n",
       "    <tr>\n",
       "      <th>53277</th>\n",
       "      <td>0075543893</td>\n",
       "      <td>Little Women</td>\n",
       "      <td>NaN</td>\n",
       "      <td>A29GDDD7S3HB6M</td>\n",
       "      <td>Claudia Harlow</td>\n",
       "      <td>0/0</td>\n",
       "      <td>5.0</td>\n",
       "      <td>1357689600</td>\n",
       "      <td>A most enjoyable read</td>\n",
       "      <td>This truly is a beautiful classic, with storie...</td>\n",
       "    </tr>\n",
       "    <tr>\n",
       "      <th>99445</th>\n",
       "      <td>B000HFCF2E</td>\n",
       "      <td>THE CHANEYSVILLE INCIDENT.</td>\n",
       "      <td>NaN</td>\n",
       "      <td>A461ZX1TLUR0</td>\n",
       "      <td>Vanessa D. Tower \"homesick hippie\"</td>\n",
       "      <td>2/2</td>\n",
       "      <td>5.0</td>\n",
       "      <td>1233878400</td>\n",
       "      <td>Racist? NOT!</td>\n",
       "      <td>I went to high school with David in Bedford, P...</td>\n",
       "    </tr>\n",
       "    <tr>\n",
       "      <th>15356</th>\n",
       "      <td>1580530214</td>\n",
       "      <td>Workflow Modeling: Tools for Process Improveme...</td>\n",
       "      <td>NaN</td>\n",
       "      <td>A3ID5V1Z13MO1C</td>\n",
       "      <td>C. Jayasekara</td>\n",
       "      <td>0/0</td>\n",
       "      <td>5.0</td>\n",
       "      <td>1358467200</td>\n",
       "      <td>The only reference book I am going hang on to.</td>\n",
       "      <td>The book as everything you need to know about ...</td>\n",
       "    </tr>\n",
       "    <tr>\n",
       "      <th>61628</th>\n",
       "      <td>0763717150</td>\n",
       "      <td>Outdoor Emergency Care: Comprehensive Prehospi...</td>\n",
       "      <td>NaN</td>\n",
       "      <td>A3SCO1Z1OFV7YM</td>\n",
       "      <td>Martin H. Beringer</td>\n",
       "      <td>0/0</td>\n",
       "      <td>3.0</td>\n",
       "      <td>1249689600</td>\n",
       "      <td>Good text, poorly worded multiple choice quest...</td>\n",
       "      <td>The text is written very well, however, the mu...</td>\n",
       "    </tr>\n",
       "    <tr>\n",
       "      <th>40824</th>\n",
       "      <td>0446781819</td>\n",
       "      <td>Gone with the Wind</td>\n",
       "      <td>NaN</td>\n",
       "      <td>NaN</td>\n",
       "      <td>NaN</td>\n",
       "      <td>0/1</td>\n",
       "      <td>5.0</td>\n",
       "      <td>903830400</td>\n",
       "      <td>a book filled with romance,passion,adventure, ...</td>\n",
       "      <td>gone with the wind is a beautiful story that b...</td>\n",
       "    </tr>\n",
       "    <tr>\n",
       "      <th>4774</th>\n",
       "      <td>0789497255</td>\n",
       "      <td>Istanbul (Eyewitness Travel Guides)</td>\n",
       "      <td>NaN</td>\n",
       "      <td>A2JA9FT2C64NI4</td>\n",
       "      <td>Roberto Felicio Coimbra</td>\n",
       "      <td>0/31</td>\n",
       "      <td>1.0</td>\n",
       "      <td>1219622400</td>\n",
       "      <td>Istambul (Eyewitness Travel Guides)</td>\n",
       "      <td>I can not make my review by the simple reason ...</td>\n",
       "    </tr>\n",
       "    <tr>\n",
       "      <th>471</th>\n",
       "      <td>B000N6DGGQ</td>\n",
       "      <td>The Scarlet Letter A Romance</td>\n",
       "      <td>NaN</td>\n",
       "      <td>A1YNOXZA9WV0TX</td>\n",
       "      <td>zion</td>\n",
       "      <td>0/0</td>\n",
       "      <td>5.0</td>\n",
       "      <td>1352246400</td>\n",
       "      <td>hawthorne</td>\n",
       "      <td>scarlet letter was a great book. Nathaniel Haw...</td>\n",
       "    </tr>\n",
       "    <tr>\n",
       "      <th>26581</th>\n",
       "      <td>1575666073</td>\n",
       "      <td>God Don't Like Ugly</td>\n",
       "      <td>11.7</td>\n",
       "      <td>A1NUNET0L0BFR4</td>\n",
       "      <td>Nardsbaby \"Connoisseur of the written word\"</td>\n",
       "      <td>1/2</td>\n",
       "      <td>2.0</td>\n",
       "      <td>1062028800</td>\n",
       "      <td>I see why</td>\n",
       "      <td>I was extremly bored reading this book, althou...</td>\n",
       "    </tr>\n",
       "    <tr>\n",
       "      <th>59801</th>\n",
       "      <td>B0006Y1BHG</td>\n",
       "      <td>Notes on nursing: What it is, and what it is not</td>\n",
       "      <td>NaN</td>\n",
       "      <td>A2DZGOXPXWCCR2</td>\n",
       "      <td>Bob</td>\n",
       "      <td>7/8</td>\n",
       "      <td>5.0</td>\n",
       "      <td>1302566400</td>\n",
       "      <td>A good electronic version</td>\n",
       "      <td>I purchased the valuable first edition hard co...</td>\n",
       "    </tr>\n",
       "    <tr>\n",
       "      <th>79245</th>\n",
       "      <td>B000N6R3FG</td>\n",
       "      <td>Awaken The Giant Within (CD)</td>\n",
       "      <td>NaN</td>\n",
       "      <td>NaN</td>\n",
       "      <td>NaN</td>\n",
       "      <td>1/1</td>\n",
       "      <td>5.0</td>\n",
       "      <td>904694400</td>\n",
       "      <td>Number One Personal Development Book of the De...</td>\n",
       "      <td>I have read 500 to 600 personal developement b...</td>\n",
       "    </tr>\n",
       "    <tr>\n",
       "      <th>42708</th>\n",
       "      <td>0786169966</td>\n",
       "      <td>The Thirteen Gun Salute (Aubrey-Maturin)</td>\n",
       "      <td>72.0</td>\n",
       "      <td>ANGRYXMUEVCHT</td>\n",
       "      <td>Carl Hoffman</td>\n",
       "      <td>2/2</td>\n",
       "      <td>5.0</td>\n",
       "      <td>1062460800</td>\n",
       "      <td>#3 on my All-Time Top 10</td>\n",
       "      <td>One thing about the adventures of Capt. Jack A...</td>\n",
       "    </tr>\n",
       "    <tr>\n",
       "      <th>35902</th>\n",
       "      <td>0399153128</td>\n",
       "      <td>Blueprint for Action: A Future Worth Creating</td>\n",
       "      <td>NaN</td>\n",
       "      <td>A36MFQXT26KYTO</td>\n",
       "      <td>Stephen L. Fornelius \"Steve Fornelius, BA, MA...</td>\n",
       "      <td>3/4</td>\n",
       "      <td>3.0</td>\n",
       "      <td>1171497600</td>\n",
       "      <td>The first book was better.</td>\n",
       "      <td>I read this thinking it was a follow on to his...</td>\n",
       "    </tr>\n",
       "  </tbody>\n",
       "</table>\n",
       "</div>"
      ],
      "text/plain": [
       "               Id                                              Title  Price  \\\n",
       "35940  B000G3LQ9K                                  PAVILION OF WOMEN    NaN   \n",
       "95028  0754053822                    Disgrace: Complete & Unabridged    NaN   \n",
       "26270  9994790161                                             Raptor    NaN   \n",
       "30996  0399142347              Stone Angel (Kathleen Mallory Novels)    NaN   \n",
       "19905  1560232153                                              Treat    NaN   \n",
       "75247  0613674650  Me Talk Pretty One Day (Turtleback School & Li...    NaN   \n",
       "80596  B000GRH51Y                                         Eden Close    NaN   \n",
       "42905  1582790485  Signature Classics - Great Expectations (Signa...    NaN   \n",
       "53277  0075543893                                       Little Women    NaN   \n",
       "99445  B000HFCF2E                         THE CHANEYSVILLE INCIDENT.    NaN   \n",
       "15356  1580530214  Workflow Modeling: Tools for Process Improveme...    NaN   \n",
       "61628  0763717150  Outdoor Emergency Care: Comprehensive Prehospi...    NaN   \n",
       "40824  0446781819                                 Gone with the Wind    NaN   \n",
       "4774   0789497255                Istanbul (Eyewitness Travel Guides)    NaN   \n",
       "471    B000N6DGGQ                       The Scarlet Letter A Romance    NaN   \n",
       "26581  1575666073                                God Don't Like Ugly   11.7   \n",
       "59801  B0006Y1BHG   Notes on nursing: What it is, and what it is not    NaN   \n",
       "79245  B000N6R3FG                       Awaken The Giant Within (CD)    NaN   \n",
       "42708  0786169966           The Thirteen Gun Salute (Aubrey-Maturin)   72.0   \n",
       "35902  0399153128      Blueprint for Action: A Future Worth Creating    NaN   \n",
       "\n",
       "              User_id                                       profileName  \\\n",
       "35940  A1EDK3B5HVJRJK                                        D. Johnson   \n",
       "95028  A15CFQRQSSK946                           C. Macauley \"cmacauley\"   \n",
       "26270  A1D8L19RXU14Q3                                       S. Padalino   \n",
       "30996  A3CDA604S8GWBZ                                       MLW \"mlw22\"   \n",
       "19905  A2XL13A9ERA0XY                      M. J. Lowe \"www.mjlowe.info\"   \n",
       "75247  A2TZS45LNNAIEP                                          Dann Fox   \n",
       "80596  A2LJ67PC9I0QUV                                        \"shavanda\"   \n",
       "42905             NaN                                               NaN   \n",
       "53277  A29GDDD7S3HB6M                                    Claudia Harlow   \n",
       "99445    A461ZX1TLUR0                Vanessa D. Tower \"homesick hippie\"   \n",
       "15356  A3ID5V1Z13MO1C                                     C. Jayasekara   \n",
       "61628  A3SCO1Z1OFV7YM                                Martin H. Beringer   \n",
       "40824             NaN                                               NaN   \n",
       "4774   A2JA9FT2C64NI4                           Roberto Felicio Coimbra   \n",
       "471    A1YNOXZA9WV0TX                                              zion   \n",
       "26581  A1NUNET0L0BFR4       Nardsbaby \"Connoisseur of the written word\"   \n",
       "59801  A2DZGOXPXWCCR2                                               Bob   \n",
       "79245             NaN                                               NaN   \n",
       "42708   ANGRYXMUEVCHT                                      Carl Hoffman   \n",
       "35902  A36MFQXT26KYTO  Stephen L. Fornelius \"Steve Fornelius, BA, MA...   \n",
       "\n",
       "      review/helpfulness  review/score  review/time  \\\n",
       "35940                0/0           5.0   1356998400   \n",
       "95028                1/1           3.0   1253664000   \n",
       "26270                2/4           5.0   1152662400   \n",
       "30996                1/1           5.0    897523200   \n",
       "19905                7/8           4.0   1017014400   \n",
       "75247                0/0           3.0   1104883200   \n",
       "80596                4/4           5.0    992476800   \n",
       "42905                0/0           4.0    987984000   \n",
       "53277                0/0           5.0   1357689600   \n",
       "99445                2/2           5.0   1233878400   \n",
       "15356                0/0           5.0   1358467200   \n",
       "61628                0/0           3.0   1249689600   \n",
       "40824                0/1           5.0    903830400   \n",
       "4774                0/31           1.0   1219622400   \n",
       "471                  0/0           5.0   1352246400   \n",
       "26581                1/2           2.0   1062028800   \n",
       "59801                7/8           5.0   1302566400   \n",
       "79245                1/1           5.0    904694400   \n",
       "42708                2/2           5.0   1062460800   \n",
       "35902                3/4           3.0   1171497600   \n",
       "\n",
       "                                          review/summary  \\\n",
       "35940                                 Diane of Ann Arbor   \n",
       "95028                                  Not Good, Not Bad   \n",
       "26270                     Easily my favorite by Jennings   \n",
       "30996                               Absolutely stunning.   \n",
       "19905                                 True to its title,   \n",
       "75247                                           It's ok.   \n",
       "80596                                           Suspense   \n",
       "42905                                        Just Great!   \n",
       "53277                              A most enjoyable read   \n",
       "99445                                       Racist? NOT!   \n",
       "15356     The only reference book I am going hang on to.   \n",
       "61628  Good text, poorly worded multiple choice quest...   \n",
       "40824  a book filled with romance,passion,adventure, ...   \n",
       "4774                 Istambul (Eyewitness Travel Guides)   \n",
       "471                                            hawthorne   \n",
       "26581                                          I see why   \n",
       "59801                          A good electronic version   \n",
       "79245  Number One Personal Development Book of the De...   \n",
       "42708                           #3 on my All-Time Top 10   \n",
       "35902                         The first book was better.   \n",
       "\n",
       "                                             review/text  \n",
       "35940  I am so glad to finally see Pearl Buck's timel...  \n",
       "95028  I was disappointed, after having readLife and ...  \n",
       "26270  I loved this book. Anyone with a Europen herit...  \n",
       "30996  I loved the first book in this series but was ...  \n",
       "19905  A blonde, blue eyed, wealthy sorority girl, en...  \n",
       "75247  The parts about his troubles growing up with i...  \n",
       "80596  When I read the Pilot's Wife I was very impres...  \n",
       "42905  Great Expectaitons by Charles Dickens is a goo...  \n",
       "53277  This truly is a beautiful classic, with storie...  \n",
       "99445  I went to high school with David in Bedford, P...  \n",
       "15356  The book as everything you need to know about ...  \n",
       "61628  The text is written very well, however, the mu...  \n",
       "40824  gone with the wind is a beautiful story that b...  \n",
       "4774   I can not make my review by the simple reason ...  \n",
       "471    scarlet letter was a great book. Nathaniel Haw...  \n",
       "26581  I was extremly bored reading this book, althou...  \n",
       "59801  I purchased the valuable first edition hard co...  \n",
       "79245  I have read 500 to 600 personal developement b...  \n",
       "42708  One thing about the adventures of Capt. Jack A...  \n",
       "35902  I read this thinking it was a follow on to his...  "
      ]
     },
     "execution_count": 13,
     "metadata": {},
     "output_type": "execute_result"
    }
   ],
   "source": [
    "#Display some sample from the books rating data\n",
    "books_rating_df.sample(20,random_state=6)"
   ]
  },
  {
   "cell_type": "markdown",
   "metadata": {},
   "source": [
    "#### ***Tidiness Issues That has been found***"
   ]
  },
  {
   "cell_type": "markdown",
   "metadata": {},
   "source": [
    "- `After the first look on the two datasets and assess the data visually, the tidiness issues That has been found:`\n",
    "\n",
    "  - `For the __Books__ dataset:`\n",
    "    - Inconsistent Data Formats:\n",
    "      - The __authors__ and __categories__ columns contain string in list so these columns must be converted into a more structured format such as string remove the list\n",
    "    - Inconsistent Date Formats:\n",
    "      - The __publishedDate__ column has dates in different formats, some row in yyyy-mm-dd format and other in yyyy format\n",
    "    -  Inconsistent Column Headers Names:\n",
    "      - The __Title__ column is capitalized while other column headers are in lowercase. \n",
    "    - Unrelated columns:\n",
    "      - __image__, __previewLink__, and __infoLink__ columns are unrelated for the analyze process\n",
    "\n",
    "\n",
    "\n",
    "  - `For the __Books Rating__ Dataset:`\n",
    "    - Inconsistent Data Formats:\n",
    "      - The __review/helpfulness__ column contains values with the format \"X/Y\", so the column should be separate into Two columns.\n",
    "    - Inconsistent Column Headers Names:\n",
    "      - Not all the columns has been named in the same formate, some columns has \"/\", other using camel case, and other are using \"_\" in the column name.\n",
    "    - Redundant Information:\n",
    "      - The __review/summary__ and __review/text__ columns might contain overlapping information, so one column could be deleted or the two columns could be merged.\n",
    "    - Review Time Format:\n",
    "      - The __review/time__ column is in Unix timestamp format which is not human-readable.\n",
    "    -  Unrelated columns:\n",
    "       - __Id__, __User_id__, __profileName__, and __Price__ columns are unrelated for the analyze process, we do not want the __Id__ column because the __title__ column will be used in the merging step not the __Id__\n",
    "   "
   ]
  },
  {
   "cell_type": "markdown",
   "metadata": {
    "id": "8Be77N4I1AmE"
   },
   "source": [
    "### ***B. Assess Data Quality Programmatically:***"
   ]
  },
  {
   "cell_type": "markdown",
   "metadata": {},
   "source": [
    "#### ***Books Dataset***"
   ]
  },
  {
   "cell_type": "markdown",
   "metadata": {},
   "source": [
    "`In this section will analyze the books data programmatically` "
   ]
  },
  {
   "cell_type": "code",
   "execution_count": 14,
   "metadata": {},
   "outputs": [
    {
     "name": "stdout",
     "output_type": "stream",
     "text": [
      "# of rows 212,404 , # of columns 10\n"
     ]
    }
   ],
   "source": [
    "#Print the shape of the books data (number of samples and number of features)\n",
    "\n",
    "print(f'# of rows {books_data_df.shape[0]:,} , # of columns {books_data_df.shape[1]:,}')"
   ]
  },
  {
   "cell_type": "code",
   "execution_count": 15,
   "metadata": {
    "id": "iMhHyiyLM2I3"
   },
   "outputs": [
    {
     "name": "stdout",
     "output_type": "stream",
     "text": [
      "<class 'pandas.core.frame.DataFrame'>\n",
      "RangeIndex: 212404 entries, 0 to 212403\n",
      "Data columns (total 10 columns):\n",
      " #   Column         Non-Null Count   Dtype  \n",
      "---  ------         --------------   -----  \n",
      " 0   Title          212403 non-null  object \n",
      " 1   description    143962 non-null  object \n",
      " 2   authors        180991 non-null  object \n",
      " 3   image          160329 non-null  object \n",
      " 4   previewLink    188568 non-null  object \n",
      " 5   publisher      136518 non-null  object \n",
      " 6   publishedDate  187099 non-null  object \n",
      " 7   infoLink       188568 non-null  object \n",
      " 8   categories     171205 non-null  object \n",
      " 9   ratingsCount   49752 non-null   float64\n",
      "dtypes: float64(1), object(9)\n",
      "memory usage: 16.2+ MB\n",
      "None\n"
     ]
    }
   ],
   "source": [
    "#Display some information about the books dataset using info function\n",
    "print(books_data_df.info())"
   ]
  },
  {
   "cell_type": "code",
   "execution_count": 16,
   "metadata": {
    "id": "bnviRCUI-bb7"
   },
   "outputs": [
    {
     "name": "stdout",
     "output_type": "stream",
     "text": [
      "       ratingsCount\n",
      "count  49752.000000\n",
      "mean      21.252975\n",
      "std      201.340431\n",
      "min        1.000000\n",
      "25%        1.000000\n",
      "50%        2.000000\n",
      "75%        5.000000\n",
      "max     4895.000000\n"
     ]
    }
   ],
   "source": [
    "#Print some information about the books dataset using the describe function\n",
    "print(books_data_df.describe())"
   ]
  },
  {
   "cell_type": "code",
   "execution_count": 17,
   "metadata": {},
   "outputs": [
    {
     "name": "stdout",
     "output_type": "stream",
     "text": [
      "Title                                                                                   description                                                                                                                                                                                                                                                                                                                                                                                                                                                                                                                                                                                                                                                                                                                                                                                                                                                                                                                                                                                                                                                                                                                                                                                                                                                                                                                                                                                                                                                                                                                                                                                                                                                          authors                                                                                                                            image                                                                                                            previewLink                                                                                                                                                                           publisher                       publishedDate  infoLink                                                                                                                                                     categories                     ratingsCount\n",
      "\"A\" IS FOR ALIBI                                                                        READ THE SENSATIONAL BLOCKBUSTER THAT STARTED IT ALL! Take it from the top in #1 New York Times bestselling author Sue Grafton's knockout thriller that introduced detective Kinsey Millhone—and a hot new attitude—to crime fiction... A IS FOR AVENGER A tough-talking former cop, private investigator Kinsey Millhone has set up a modest detective agency in a quiet corner of Santa Teresa, California. A twice-divorced loner with few personal possessions and fewer personal attachments, she's got a soft spot for underdogs and lost causes. A IS FOR ACCUSED That's why she draws desperate clients like Nikki Fife. Eight years ago, she was convicted of killing her philandering husband. Now she's out on parole and needs Kinsey's help to find the real killer. But after all this time, clearing Nikki's bad name won't be easy. A IS FOR ALIBI If there's one thing that makes Kinsey Millhone feel alive, it's playing on the edge. When her investigation turns up a second corpse, more suspects, and a new reason to kill, Kinsey discovers that the edge is closer—and sharper—than she imagined. \"A\" Is for Alibi \"B\" Is for Burglar \"C\" Is for Corpse \"D\" Is for Deadbeat \"E\" Is for Evidence \"F\" Is for Fugitive \"G\" Is for Gumshoe \"H\" Is for Homicide \"I\" Is for Innocent \"J\" Is for Judgment \"K\" Is for Killer \"L\" is for Lawless \"M\" Is for Malice \"N\" Is for Noose \"O\" Is for Outlaw \"P\" Is for Peril \"Q\" Is for Quarry \"R\" Is for Ricochet \"S\" Is for Silence \"T\" Is for Trespass \"U\" Is for Undertow \"V\" Is for Vengeance \"W\" Is for Wasted \"X\"                                                                                   ['Sue Grafton']                                                                                                                    http://books.google.com/books/content?id=xZjj2wWRO4oC&printsec=frontcover&img=1&zoom=1&edge=curl&source=gbs_api  http://books.google.com/books?id=xZjj2wWRO4oC&printsec=frontcover&dq=%22A%22+IS+FOR+ALIBI&hl=&cd=1&source=gbs_api                                                                     Holt Paperbacks                 2010-04-01     https://play.google.com/store/books/details?id=xZjj2wWRO4oC&source=gbs_api                                                                                   ['Fiction']                    20.0            1\n",
      "Surprising Sharks (Boston Globe-Horn Book Honors (Awards))                              Introduces many different species of sharks, pointing out such characteristics as the small size of the dwarf lantern shark and the physical characteristics and behavior that makes sharks killing machines.                                                                                                                                                                                                                                                                                                                                                                                                                                                                                                                                                                                                                                                                                                                                                                                                                                                                                                                                                                                                                                                                                                                                                                                                                                                                                                                                                                                                                                                        ['Nicola Davies']                                                                                                                  http://books.google.com/books/content?id=vWzhAAAAMAAJ&printsec=frontcover&img=1&zoom=1&source=gbs_api            http://books.google.com/books?id=vWzhAAAAMAAJ&dq=Surprising+Sharks+(Boston+Globe-Horn+Book+Honors+(Awards))&hl=&cd=1&source=gbs_api                                                   Candlewick Press (MA)           2003           http://books.google.com/books?id=vWzhAAAAMAAJ&dq=Surprising+Sharks+(Boston+Globe-Horn+Book+Honors+(Awards))&hl=&source=gbs_api                               ['Juvenile Nonfiction']        10.0            1\n",
      "Surfers of the Zuvuya: Tales of Interdimensional Travel                                 Join José Argüelles and his higher self--his \"dimensional double,\" Uncle Joe Zuvuya--on a journey from the center of the earth to the outermost reaches of the galaxy! Uncle Joe instructs Argüelles in Mayan etheric engineering, Arcturian space stations, Atlantean family histories, and much more.                                                                                                                                                                                                                                                                                                                                                                                                                                                                                                                                                                                                                                                                                                                                                                                                                                                                                                                                                                                                                                                                                                                                                                                                                                                                                                                                                              ['José Argüelles']                                                                                                                 http://books.google.com/books/content?id=dk25GwAACAAJ&printsec=frontcover&img=1&zoom=1&source=gbs_api            http://books.google.com/books?id=dk25GwAACAAJ&dq=Surfers+of+the+Zuvuya:+Tales+of+Interdimensional+Travel&hl=&cd=1&source=gbs_api                                                      Bear                            1988-08-01     http://books.google.com/books?id=dk25GwAACAAJ&dq=Surfers+of+the+Zuvuya:+Tales+of+Interdimensional+Travel&hl=&source=gbs_api                                  ['Body, Mind & Spirit']        2.0             1\n",
      "Surgery: Scientific Principles and Practice (Free CD-ROM with Return of Enclosed Card)  The Fifth Edition of Greenfield's Surgery has been thoroughly revised, updated, and refocused to conform to changes in surgical education and practice. Reflecting the increasingly clinical emphasis of residency programs, this edition features expanded coverage of clinical material and increased use of clinical algorithms. Key Points open each chapter, and icons in the text indicate where Key Points are fully discussed. Many of the black-and-white images from the previous edition have been replaced by full-color images. This edition has new chapters on quality assessment, surgical education, and surgical processes in the hospital. Coverage of surgical subspecialty areas is more sharply focused on topics that are encountered by general surgeons and included in the current general surgery curriculum and ABSITE exam. The vascular section has been further consolidated. A new editor, Diane M. Simeone, MD, PhD, has joined the editorial team. This edition is available either in one hardbound volume or in a four-volume softbound set. The lightweight four-volume option offers easy portability and quick access. Each volume is organized by organ system so you can find the facts you need within seconds. The companion website presents the fully searchable text, an instant-feedback test bank featuring over 800 questions and answers, and a comprehensive image bank. Unique to this new edition's website are 100 \"Morbidity and Mortality\" case discussions. Each case reviews a specific surgical complication, how the complication was addressed, and reviews the literature on approaches and outcomes.  ['Michael W. Mulholland', 'Keith D. Lillemoe', 'Gerard M. Doherty', 'Ronald V. Maier', 'Diane M. Simeone', 'Gilbert R. Upchurch']  http://books.google.com/books/content?id=KkJc0XYVc0IC&printsec=frontcover&img=1&zoom=1&edge=curl&source=gbs_api  http://books.google.com/books?id=KkJc0XYVc0IC&printsec=frontcover&dq=Surgery:+Scientific+Principles+and+Practice+(Free+CD-ROM+with+Return+of+Enclosed+Card)&hl=&cd=1&source=gbs_api   Lippincott Williams & Wilkins   2012-09-11     http://books.google.com/books?id=KkJc0XYVc0IC&dq=Surgery:+Scientific+Principles+and+Practice+(Free+CD-ROM+with+Return+of+Enclosed+Card)&hl=&source=gbs_api   ['Medical']                    2.0             1\n",
      "Surprise for a Princess (Step into Reading)                                             A collection of five stories about princesses from Disney movies, including \"Cinderella,\" \"Snow White,\" \"Beauty and the Beast,\" \"Sleeping Beauty,\" and \"Aladdin.\"                                                                                                                                                                                                                                                                                                                                                                                                                                                                                                                                                                                                                                                                                                                                                                                                                                                                                                                                                                                                                                                                                                                                                                                                                                                                                                                                                                                                                                                                                                    ['RH Disney']                                                                                                                      http://books.google.com/books/content?id=93XMnXIA88gC&printsec=frontcover&img=1&zoom=1&edge=curl&source=gbs_api  http://books.google.com/books?id=93XMnXIA88gC&printsec=frontcover&dq=Surprise+for+a+Princess+(Step+into+Reading)&hl=&cd=1&source=gbs_api                                              Disney Books for Young Readers  2007           http://books.google.com/books?id=93XMnXIA88gC&dq=Surprise+for+a+Princess+(Step+into+Reading)&hl=&source=gbs_api                                              ['Juvenile Fiction']           4.0             1\n",
      "                                                                                                                                                                                                                                                                                                                                                                                                                                                                                                                                                                                                                                                                                                                                                                                                                                                                                                                                                                                                                                                                                                                                                                                                                                                                                                                                                                                                                                                                                                                                                                                                                                                                                                                                                                                                                                                                                                                                                                                                                                                                                                                                                                                                                                                                                                                                                                                                                                                                 ..\n",
      "Hide & Seek                                                                             NATIONAL BESTSELLER • A high-stakes hide-and-seek competition turns deadly in this dark supernatural thriller from New York Times bestselling author Kiersten White. “The suspenseful plot combines elements of Thomas Tryon’s classic Harvest Home, Netflix’s Squid Game, and the social commentary of Jordan Peele’s film oeuvre and mixes these with a revelatory pacing reminiscent of Spielberg’s Jaws.”—Booklist The challenge: Spend a week hiding in an abandoned amusement park and don’t get caught. The prize: enough money to change everything. Even though everyone is desperate to win—to seize a dream future or escape a haunting past—Mack is sure she can beat her competitors. All she has to do is hide, and she’s an expert at that. It’s the reason she’s alive and her family isn’t. But as the people around her begin disappearing one by one, Mack realizes that this competition is even more sinister than she imagined, and that together might be the only way to survive. Fourteen competitors. Seven days. Everywhere to hide but nowhere to run. Come out, come out, wherever you are.                                                                                                                                                                                                                                                                                                                                                                                                                                                                                                                                             ['Kiersten White']                                                                                                                 http://books.google.com/books/content?id=ejY_EAAAQBAJ&printsec=frontcover&img=1&zoom=1&edge=curl&source=gbs_api  http://books.google.com/books?id=ejY_EAAAQBAJ&printsec=frontcover&dq=Hide&hl=&cd=1&source=gbs_api                                                                                     Del Rey                         2022-05-24     https://play.google.com/store/books/details?id=ejY_EAAAQBAJ&source=gbs_api                                                                                   ['Fiction']                    4.0             1\n",
      "Hide in Plain Sight[hardcover]                                                          Filled with Jeffrey Archer’s trademark twists and turns, Hidden in Plain Sight is the gripping next instalment in the life of William Warwick. Newly promoted, Detective Sergeant William Warwick has been reassigned to the drugs squad. His first case: to investigate a notorious south London drug lord known as the Viper. But as William and his team close the net around a criminal network unlike any they have ever encountered, he is also faced with an old enemy, Miles Faulkner. It will take all of William’s cunning to devise a means to bring both men to justice, a trap neither will expect, one that is hidden in plain sight . . . Hidden in Plain Sight follows on from Nothing Ventured and continues with Turn a Blind Eye, but can be read as a standalone story.                                                                                                                                                                                                                                                                                                                                                                                                                                                                                                                                                                                                                                                                                                                                                                                                                                                                          ['Jeffrey Archer']                                                                                                                 http://books.google.com/books/content?id=cPLRDwAAQBAJ&printsec=frontcover&img=1&zoom=1&edge=curl&source=gbs_api  http://books.google.com/books?id=cPLRDwAAQBAJ&printsec=frontcover&dq=Hide+in+Plain+Sight%5Bhardcover%5D&hl=&cd=1&source=gbs_api                                                       Pan Macmillan                   2020-10-29     http://books.google.com/books?id=cPLRDwAAQBAJ&dq=Hide+in+Plain+Sight%5Bhardcover%5D&hl=&source=gbs_api                                                       ['Fiction']                    5.0             1\n",
      "Hideaway                                                                                When Hatch Harrison is brought back to life in an ambulance, his second chance turns into a nightmarish quest to squelch the evil he brought back with him from the afterlife. Reissue.                                                                                                                                                                                                                                                                                                                                                                                                                                                                                                                                                                                                                                                                                                                                                                                                                                                                                                                                                                                                                                                                                                                                                                                                                                                                                                                                                                                                                                                                              ['Dean Ray Koontz']                                                                                                                http://books.google.com/books/content?id=b1kMSSYUH9oC&printsec=frontcover&img=1&zoom=1&edge=curl&source=gbs_api  http://books.google.com/books?id=b1kMSSYUH9oC&printsec=frontcover&dq=Hideaway&hl=&cd=1&source=gbs_api                                                                                 Penguin                         2005           http://books.google.com/books?id=b1kMSSYUH9oC&dq=Hideaway&hl=&source=gbs_api                                                                                 ['Fiction']                    15.0            1\n",
      "Hiding Places: A Father and His Sons Retrace Their Family's Escape from the Holocaust   Recounts how the author, estranged from his sons after a divorce, took them on a trip during which they retraced their ancestors' escape from Antwerp during World War II, a journey that instilled in them a reinforced sense of family, spirituality, and Jewish identity.                                                                                                                                                                                                                                                                                                                                                                                                                                                                                                                                                                                                                                                                                                                                                                                                                                                                                                                                                                                                                                                                                                                                                                                                                                                                                                                                                                                         ['Daniel Asa Rose']                                                                                                                http://books.google.com/books/content?id=MThhso9EFIYC&printsec=frontcover&img=1&zoom=1&edge=curl&source=gbs_api  http://books.google.com/books?id=MThhso9EFIYC&printsec=frontcover&dq=Hiding+Places:+A+Father+and+His+Sons+Retrace+Their+Family%27s+Escape+from+the+Holocaust&hl=&cd=1&source=gbs_api  Simon and Schuster              2000           http://books.google.com/books?id=MThhso9EFIYC&dq=Hiding+Places:+A+Father+and+His+Sons+Retrace+Their+Family%27s+Escape+from+the+Holocaust&hl=&source=gbs_api  ['Biography & Autobiography']  1.0             1\n",
      "with an everlasting love                                                                This allegorical novel explores the love of God for his people and admonishes the Christian to wait faithfully and patiently as a bride anticipating the appearance of her promised husband.                                                                                                                                                                                                                                                                                                                                                                                                                                                                                                                                                                                                                                                                                                                                                                                                                                                                                                                                                                                                                                                                                                                                                                                                                                                                                                                                                                                                                                                                         ['Kay Arthur']                                                                                                                     http://books.google.com/books/content?id=2A8fFSfhdSEC&printsec=frontcover&img=1&zoom=1&edge=curl&source=gbs_api  http://books.google.com/books?id=2A8fFSfhdSEC&printsec=frontcover&dq=with+an+everlasting+love&hl=&cd=1&source=gbs_api                                                                 Harvest House Publishers        1999-07-01     http://books.google.com/books?id=2A8fFSfhdSEC&dq=with+an+everlasting+love&hl=&source=gbs_api                                                                 ['Religion']                   4.0             1\n",
      "Length: 40635, dtype: int64\n"
     ]
    }
   ],
   "source": [
    "#print the count of values in each feature\n",
    "print(books_data_df.value_counts())"
   ]
  },
  {
   "cell_type": "code",
   "execution_count": 18,
   "metadata": {},
   "outputs": [
    {
     "name": "stdout",
     "output_type": "stream",
     "text": [
      "The count of null values for each feature:\n",
      "Title                 1\n",
      "description       68442\n",
      "authors           31413\n",
      "image             52075\n",
      "previewLink       23836\n",
      "publisher         75886\n",
      "publishedDate     25305\n",
      "infoLink          23836\n",
      "categories        41199\n",
      "ratingsCount     162652\n",
      "dtype: int64\n"
     ]
    }
   ],
   "source": [
    "#Print the count of the null value in each feature\n",
    "print(\"The count of null values for each feature:\")\n",
    "print(books_data_df.isnull().sum())"
   ]
  },
  {
   "cell_type": "code",
   "execution_count": 19,
   "metadata": {},
   "outputs": [
    {
     "name": "stdout",
     "output_type": "stream",
     "text": [
      "The number of duplicates rows are: 0\n"
     ]
    }
   ],
   "source": [
    "#Print the count of the duplicates row in the data set\n",
    "print(f'The number of duplicates rows are: {books_data_df.duplicated().sum()}',)\n"
   ]
  },
  {
   "cell_type": "markdown",
   "metadata": {},
   "source": [
    "#### ***Books Rating Dataset***"
   ]
  },
  {
   "cell_type": "markdown",
   "metadata": {},
   "source": [
    "`In this section will analyze the books rating data programmatically` "
   ]
  },
  {
   "cell_type": "code",
   "execution_count": 20,
   "metadata": {},
   "outputs": [
    {
     "name": "stdout",
     "output_type": "stream",
     "text": [
      "# of rows 100,000 , # of columns 10\n"
     ]
    }
   ],
   "source": [
    "#Print the shape of the books data (number of samples and number of features)\n",
    "\n",
    "print(f'# of rows {books_rating_df.shape[0]:,} , # of columns {books_rating_df.shape[1]:,}')"
   ]
  },
  {
   "cell_type": "code",
   "execution_count": 21,
   "metadata": {},
   "outputs": [
    {
     "name": "stdout",
     "output_type": "stream",
     "text": [
      "<class 'pandas.core.frame.DataFrame'>\n",
      "RangeIndex: 100000 entries, 0 to 99999\n",
      "Data columns (total 10 columns):\n",
      " #   Column              Non-Null Count   Dtype  \n",
      "---  ------              --------------   -----  \n",
      " 0   Id                  100000 non-null  object \n",
      " 1   Title               99994 non-null   object \n",
      " 2   Price               15972 non-null   float64\n",
      " 3   User_id             81276 non-null   object \n",
      " 4   profileName         81274 non-null   object \n",
      " 5   review/helpfulness  100000 non-null  object \n",
      " 6   review/score        100000 non-null  float64\n",
      " 7   review/time         100000 non-null  int64  \n",
      " 8   review/summary      99998 non-null   object \n",
      " 9   review/text         99999 non-null   object \n",
      "dtypes: float64(2), int64(1), object(7)\n",
      "memory usage: 7.6+ MB\n",
      "None\n"
     ]
    }
   ],
   "source": [
    "#Print some information about the books dataset using the info function\n",
    "\n",
    "print(books_rating_df.info())"
   ]
  },
  {
   "cell_type": "code",
   "execution_count": 22,
   "metadata": {},
   "outputs": [
    {
     "name": "stdout",
     "output_type": "stream",
     "text": [
      "              Price  review/score   review/time\n",
      "count  15972.000000  100000.00000  1.000000e+05\n",
      "mean      21.938816       4.21349  1.132138e+09\n",
      "std       26.902862       1.20388  1.492567e+08\n",
      "min        1.000000       1.00000  8.107776e+08\n",
      "25%       10.610000       4.00000  9.996480e+08\n",
      "50%       14.930000       5.00000  1.128038e+09\n",
      "75%       24.200000       5.00000  1.269302e+09\n",
      "max      875.000000       5.00000  1.362355e+09\n"
     ]
    }
   ],
   "source": [
    "#Print some information about the books dataset using the describe function\n",
    "print(books_rating_df.describe())"
   ]
  },
  {
   "cell_type": "code",
   "execution_count": 23,
   "metadata": {},
   "outputs": [
    {
     "name": "stdout",
     "output_type": "stream",
     "text": [
      "Id          Title                                                                                         Price   User_id         profileName                                       review/helpfulness  review/score  review/time  review/summary                            review/text                                                                                                                                                                                                                                                                                                                                                                                                                                                                                                                                                                                                                                                                                                                                                                                                                                                                                                                                                                                                                                                                                                                                                                                                                                                                                                                                                                                                                                                                                                                                                                                                                                                      \n",
      "141761806X  Shadow Puppets (Turtleback School & Library Binding Edition) (Ender's Shadow)                 18.40   AG1KA6J59CJ9S   Martin L. Cox \"avid reader\"                       0/0                 5.0           1211414400   loved it !!!!!                            I began reading this series of books due to my teenage son.After reading \"Ender's Game\" I was hooked and have to say I think I've enjoyed Bean's story even more than Ender's.                                                                                                                                                                                                                                                                                                                                                                                                                                                                                                                                                                                                                                                                                                                                                                                                                                                                                                                                                                                                                                                                                                                                                                                                                                                                                                                                                                                                                                                                                       3\n",
      "157863010X  Angels, Demons & Gods of the New Millennium                                                   15.09   A1FUET6V0MKZ6J  Michael Dinowitz \"Master of the House of Fusi...  2/10                4.0           974246400    A multiple view                           It was an interesting read and would be worth it for many people wanting to learn. I have a few problems with his Kabbalah information, but I tend to have those with almost anyone who dosn't get it right by Jewish standards. :)                                                                                                                                                                                                                                                                                                                                                                                                                                                                                                                                                                                                                                                                                                                                                                                                                                                                                                                                                                                                                                                                                                                                                                                                                                                                                                                                                                                                                                  2\n",
      "0130221503  WORD BY WORD PRIMARY PICTURE WORD CARDS                                                       67.46   A32ZGQMGY2SRCY  PRISCILA DORTA                                    0/0                 5.0           1029628800   Word by Word picture dictionary           THE BOOK IS VERY ILUSTRATED IT HAS A LOT INFORMATION SUETABLEFOR MY LEARNING.                                                                                                                                                                                                                                                                                                                                                                                                                                                                                                                                                                                                                                                                                                                                                                                                                                                                                                                                                                                                                                                                                                                                                                                                                                                                                                                                                                                                                                                                                                                                                                                        2\n",
      "1412902231  Researching Information Systems and Computing                                                 107.23  A3B1KBAFGECTLG  Schoolfirst                                       0/0                 5.0           1353369600   Good textbook!                            I used this textbook during my capstone course in a master of science of management of information systems degree. It provided a good reference throughout my research class.                                                                                                                                                                                                                                                                                                                                                                                                                                                                                                                                                                                                                                                                                                                                                                                                                                                                                                                                                                                                                                                                                                                                                                                                                                                                                                                                                                                                                                                                                        2\n",
      "1893858227  Examkrackers 1001 Questions in MCAT Chemistry                                                 19.18   A2DG8HJAJIV3IP  Craig Lafferty \"Talus\"                            9/12                3.0           1015977600   MCAT THINKING                             While this book is better than most MCAT guides on the market, it does have some flaws. PRAISE: The questions are excellent! Just like the MCAT! FLAW: Often the questions pertain to information not previously mentioned or reviewed in the previous passage. EXAMPLE: A question from the first section involved answer choices of London forces, hydrogen bonding, and dipole-dipole moments. None of these terms or concepts were discussed previously! SO: Basically you need to have a good foundation before you get this book. Once you do buy the book, IT DOES TEACH YOU HOW TO THINK LIKE THE MCAT!!! Just remember to review the knowledge elsewhere!                                                                                                                                                                                                                                                                                                                                                                                                                                                                                                                                                                                                                                                                                                                                                                                                                                                                                                                                                                                                   2\n",
      "                                                                                                                                                                                                                                                                                                                                                                                                                                                                                                                                                                                                                                                                                                                                                                                                                                                                                                                                                                                                                                                                                                                                                                                                                                                                                                                                                                                                                                                                                                                                                                                                                                                                                                                                                                                                                                                                                                                                                 ..\n",
      "0743249976  God's Gift to Women: A Novel                                                                  10.20   A39ISRQIQ4AY4S  Angel Iverson \"Young Tyzz\"                        1/2                 5.0           1092096000   WHOA!                                     MICHAEL BAISDEN IS THE TRUTH!!This is the third book that I have read of his, and all three of them was FIRE!! His books just keep me turning the page, and I can never put his books down. This one just threw me off guard, because the title wasn't what I expected from the book. But I loved the book regardless. Makes you just hate some females, and feel bad for some dudes. YOU HAVE TO READ THIS!!                                                                                                                                                                                                                                                                                                                                                                                                                                                                                                                                                                                                                                                                                                                                                                                                                                                                                                                                                                                                                                                                                                                                                                                                                                                        1\n",
      "0743249992  Bringing Down the House: The Inside Story of Six M.I.T. Students Who Took Vegas for Millions  10.20   A1BW4TMJ1QWGYS  Patricia McCloy                                   0/2                 5.0           1206835200   Imagine yourself having this experience!  I was totally immersed; imagine yourself part of the scenario - VERY ENTERTAINING. Recommended!                                                                                                                                                                                                                                                                                                                                                                                                                                                                                                                                                                                                                                                                                                                                                                                                                                                                                                                                                                                                                                                                                                                                                                                                                                                                                                                                                                                                                                                                                                                                                                      1\n",
      "                                                                                                                  A1CGOLLFXTARE0  Lee Hall                                          8/14                1.0           1167436800   Here Kitty, Kitty...                      I also found it hard to put this book down. It contains a wealth of misinformation. It is so preposterous, it is beyond the pale. It is easy to suspect that the casino interests are behind this ridiculous farce. Casino managers like nothing better than catering to pin-heads who have money to burn.Yes, blackjack can be a positive expectation game for the players. But not like this. Even the best blackjack players in the world can only wring a 2% advantage out of the most favorable varieties of blackjack and then only on paper; or, in the casinos, only if the dealers, pit bosses and eye-in-the-sky are all asleep, drunk or dead.Any knowledgeable gambler, casino employee or competent mathematician will tell you that you have to bet a spread of at least 10 to 1 in order to for card counting to significantly improve your chances. About the third time you bounce a bet up to 10 times your normal bet (when the count is good) a pit boss (with several large security guards in tow) will politely tell you that your action is a little too strong and will ask you to take your business elsewhere.But, don't take my word for it; check it out with the experts.Read Thorp's \"Beat the Dealer\", the book that started the whole card counting craze.Or, read Griffin's \"The Theory of Blackjack\", another mathematician's analysis of the game.How about: Stanford Wong's \"Professional Blackjack\", which is considered to be definitive, even at MIT.Then, there is Ford's \"How to Gamble at the Casinos Without Getting Plucked Like a Chicken\" that gives you an honest take on winning at blackjack in about 30 pages.    1\n",
      "                                                                                                                  A1LTNM0T1XWUHP  R. J. Morrisey                                    0/0                 4.0           1078704000   Hard to put down                          These M.I.T. &quot;Geeks&quot; refined the skill of card-counting to the tune of a cool $3 million. Using professor Thorpe's proven mathematical theory and a solid team system they assault the mega casinos in Vegas and throughout the U.S. Planning each invasion like a military attack, they carefully slice off their 2% advantage. This book has adventure, drama and mystery. You will find it hard to put down. Take the red-eye to the Strip, count cards with the rest of the spotters, call in the &quot;Gorilla&quot; and then party down. You've earned it!                                                                                                                                                                                                                                                                                                                                                                                                                                                                                                                                                                                                                                                                                                                                                                                                                                                                                                                                                                                                                                                                                           1\n",
      "B000TGB9VE  Fix-It & Forget-It Lightly: Healthy Low-Fat Recipes for Your Slow Cooker                      7.58    AE6C5O6UL3BVP   Kathy                                             0/0                 5.0           1347321600   Love using my crock pot                   I love using my crock pot, and this cookbook has given me good ideas. Surely doesn't help that they are low fat and healthy.                                                                                                                                                                                                                                                                                                                                                                                                                                                                                                                                                                                                                                                                                                                                                                                                                                                                                                                                                                                                                                                                                                                                                                                                                                                                                                                                                                                                                                                                                                                                         1\n",
      "Length: 13559, dtype: int64\n"
     ]
    }
   ],
   "source": [
    "#print the count of values in each feature\n",
    "print(books_rating_df.value_counts())"
   ]
  },
  {
   "cell_type": "code",
   "execution_count": 24,
   "metadata": {},
   "outputs": [
    {
     "name": "stdout",
     "output_type": "stream",
     "text": [
      "The count of null values for each feature:\n",
      "Id                        0\n",
      "Title                     6\n",
      "Price                 84028\n",
      "User_id               18724\n",
      "profileName           18726\n",
      "review/helpfulness        0\n",
      "review/score              0\n",
      "review/time               0\n",
      "review/summary            2\n",
      "review/text               1\n",
      "dtype: int64\n"
     ]
    }
   ],
   "source": [
    "#Print the count of the null value in each feature\n",
    "print(\"The count of null values for each feature:\")\n",
    "print(books_rating_df.isnull().sum())"
   ]
  },
  {
   "cell_type": "code",
   "execution_count": 25,
   "metadata": {},
   "outputs": [
    {
     "name": "stdout",
     "output_type": "stream",
     "text": [
      "The number of duplicates rows are:\n",
      "1692\n"
     ]
    }
   ],
   "source": [
    "#Print the count of the duplicates row in the data set\n",
    "print(\"The number of duplicates rows are:\")\n",
    "print(books_rating_df.duplicated().sum())"
   ]
  },
  {
   "cell_type": "markdown",
   "metadata": {},
   "source": [
    "#### ***Quality Issues that has been found***    "
   ]
  },
  {
   "cell_type": "markdown",
   "metadata": {},
   "source": [
    "- `After assess the two datasets and assess programmatically, the quality issues That has been found:`\n",
    "\n",
    "  - `For the __Books__ dataset:`\n",
    "    - Missing Values:\n",
    "      - Several columns, such as __Title__,__description__, __authors__, __image__, __previewLink__, __publisher__, __publishedDate__, __categories__, and __ratingsCount__, contain missing values (NaN).\n",
    "  \n",
    "\n",
    "  - `For the __Books Rating__ Dataset:`\n",
    "    - Missing values:\n",
    "      -__Title__ ,__User_id__, __ProfileName__, __Price__, __review/helpfulness__, __review/summary__, __review/text__ columns have missing values.\n",
    "  - Duplicate Values:\n",
    "    - The dataset has __1692__ duplicate rows"
   ]
  },
  {
   "cell_type": "markdown",
   "metadata": {
    "id": "D6gmLnBttpCh"
   },
   "source": [
    "## ***3. Clean data***"
   ]
  },
  {
   "cell_type": "markdown",
   "metadata": {},
   "source": [
    "`In this section, I will clean each dataset, addressing all issues discussed previously in the previous section. Additionally, I will verify the success of the cleaning steps.`"
   ]
  },
  {
   "cell_type": "code",
   "execution_count": 26,
   "metadata": {},
   "outputs": [],
   "source": [
    "#Copy the two datasets into new data frames to clean them\n",
    "books_clean_df=books_data_df.copy()\n",
    "books_rating_clean_df=books_rating_df.copy()"
   ]
  },
  {
   "cell_type": "markdown",
   "metadata": {
    "id": "FmFhN52Yyn3l"
   },
   "source": [
    "### **Tidiness Issue 1:Unrelated columns (Remove unnecessary variables)**"
   ]
  },
  {
   "cell_type": "markdown",
   "metadata": {},
   "source": [
    ">As discussed previously, the columns __image__, __previewLink__, and __infoLink__ from the Books dataset, and __profileName__, __Price__, __User_id__ and __Id__ from the Books Rating dataset are unrelated to the problem statement. Therefore, they will be removed before analysis"
   ]
  },
  {
   "cell_type": "code",
   "execution_count": 27,
   "metadata": {},
   "outputs": [],
   "source": [
    "#Function to drop the unwanted columns\n",
    "def drop_column(df,columns):\n",
    "    df.drop(columns,axis=1, inplace=True)"
   ]
  },
  {
   "cell_type": "code",
   "execution_count": 28,
   "metadata": {
    "id": "9UejDWrNMW4a"
   },
   "outputs": [],
   "source": [
    "#Delete the columns from the data frames (books_clean_df)\n",
    "drop_column(books_clean_df,['image','previewLink','infoLink'])"
   ]
  },
  {
   "cell_type": "code",
   "execution_count": 29,
   "metadata": {},
   "outputs": [],
   "source": [
    "#Delete the columns from the data frames (books_rating_clean_df)\n",
    "drop_column(books_rating_clean_df,['Id','User_id','profileName','Price'])"
   ]
  },
  {
   "cell_type": "markdown",
   "metadata": {},
   "source": [
    "**Check if the cleaning step was successful:**"
   ]
  },
  {
   "cell_type": "code",
   "execution_count": 30,
   "metadata": {},
   "outputs": [
    {
     "name": "stdout",
     "output_type": "stream",
     "text": [
      "The columns for the books dataset are:\n",
      "['Title', 'description', 'authors', 'publisher', 'publishedDate', 'categories', 'ratingsCount']\n"
     ]
    }
   ],
   "source": [
    "#Print the name of the columns for the books data\n",
    "print(\"The columns for the books dataset are:\")\n",
    "print(books_clean_df.columns.to_list())"
   ]
  },
  {
   "cell_type": "code",
   "execution_count": 31,
   "metadata": {},
   "outputs": [
    {
     "name": "stdout",
     "output_type": "stream",
     "text": [
      "The columns for the books rating dataset are:\n",
      "['Title', 'review/helpfulness', 'review/score', 'review/time', 'review/summary', 'review/text']\n"
     ]
    }
   ],
   "source": [
    "#Print the name of the columns for the books rating data\n",
    "print(\"The columns for the books rating dataset are:\")\n",
    "print(books_rating_clean_df.columns.to_list())"
   ]
  },
  {
   "cell_type": "markdown",
   "metadata": {
    "id": "n_DAUbJrymBL"
   },
   "source": [
    "### **Tidiness Issue 2: Inconsistent Data Formats**"
   ]
  },
  {
   "cell_type": "markdown",
   "metadata": {},
   "source": [
    "> To handle the __review/helpfulness__ column split it into two separate columns: one for the numerator (X) and another for the denominator (Y). This way, each column will represent a distinct value, allowing for more meaningful analysis.\n",
    "\n",
    "\n",
    "> Should handle also the __authors__ and __categories__ columns consistently. Since they are currently in string list format “[]”, they should be converted into actual list type []. However, it is recommended to extract all the values in the list by using explode method, but that will add more complexity to the merging and analyze steps by adding more unwanted duplicate rows."
   ]
  },
  {
   "cell_type": "markdown",
   "metadata": {},
   "source": [
    "**Process the review/helpfulness column:**"
   ]
  },
  {
   "cell_type": "code",
   "execution_count": 32,
   "metadata": {},
   "outputs": [],
   "source": [
    "# Assign the values from the old column to the new two columns\n",
    "books_rating_clean_df[[\"total_review\",\"helpful_review\"]]=books_rating_clean_df[\"review/helpfulness\"].str.split(\"/\", expand=True)"
   ]
  },
  {
   "cell_type": "code",
   "execution_count": 33,
   "metadata": {},
   "outputs": [],
   "source": [
    "#Convert the datatype of the two columns into int\n",
    "books_rating_clean_df[\"total_review\"]=books_rating_clean_df[\"total_review\"].astype(int)\n",
    "books_rating_clean_df[\"helpful_review\"]=books_rating_clean_df[\"helpful_review\"].astype(int)\n",
    "\n"
   ]
  },
  {
   "cell_type": "code",
   "execution_count": 34,
   "metadata": {},
   "outputs": [],
   "source": [
    "#Drop the old column from the dataset\n",
    "drop_column(books_rating_clean_df,[\"review/helpfulness\"])\n"
   ]
  },
  {
   "cell_type": "markdown",
   "metadata": {},
   "source": [
    "**Check if the cleaning step was successful:**"
   ]
  },
  {
   "cell_type": "code",
   "execution_count": 35,
   "metadata": {},
   "outputs": [
    {
     "name": "stdout",
     "output_type": "stream",
     "text": [
      "The columns for the books rating dataset are:\n"
     ]
    },
    {
     "data": {
      "text/plain": [
       "['Title',\n",
       " 'review/score',\n",
       " 'review/time',\n",
       " 'review/summary',\n",
       " 'review/text',\n",
       " 'total_review',\n",
       " 'helpful_review']"
      ]
     },
     "execution_count": 35,
     "metadata": {},
     "output_type": "execute_result"
    }
   ],
   "source": [
    "#Print the columns of the books rating data\n",
    "print(\"The columns for the books rating dataset are:\")\n",
    "books_rating_clean_df.columns.to_list()"
   ]
  },
  {
   "cell_type": "code",
   "execution_count": 36,
   "metadata": {},
   "outputs": [
    {
     "data": {
      "text/html": [
       "<div>\n",
       "<style scoped>\n",
       "    .dataframe tbody tr th:only-of-type {\n",
       "        vertical-align: middle;\n",
       "    }\n",
       "\n",
       "    .dataframe tbody tr th {\n",
       "        vertical-align: top;\n",
       "    }\n",
       "\n",
       "    .dataframe thead th {\n",
       "        text-align: right;\n",
       "    }\n",
       "</style>\n",
       "<table border=\"1\" class=\"dataframe\">\n",
       "  <thead>\n",
       "    <tr style=\"text-align: right;\">\n",
       "      <th></th>\n",
       "      <th>authors</th>\n",
       "      <th>categories</th>\n",
       "    </tr>\n",
       "  </thead>\n",
       "  <tbody>\n",
       "    <tr>\n",
       "      <th>0</th>\n",
       "      <td>['Julie Strain']</td>\n",
       "      <td>['Comics &amp; Graphic Novels']</td>\n",
       "    </tr>\n",
       "    <tr>\n",
       "      <th>1</th>\n",
       "      <td>['Philip Nel']</td>\n",
       "      <td>['Biography &amp; Autobiography']</td>\n",
       "    </tr>\n",
       "    <tr>\n",
       "      <th>2</th>\n",
       "      <td>['David R. Ray']</td>\n",
       "      <td>['Religion']</td>\n",
       "    </tr>\n",
       "    <tr>\n",
       "      <th>3</th>\n",
       "      <td>['Veronica Haddon']</td>\n",
       "      <td>['Fiction']</td>\n",
       "    </tr>\n",
       "    <tr>\n",
       "      <th>4</th>\n",
       "      <td>['Edward Long']</td>\n",
       "      <td>NaN</td>\n",
       "    </tr>\n",
       "    <tr>\n",
       "      <th>...</th>\n",
       "      <td>...</td>\n",
       "      <td>...</td>\n",
       "    </tr>\n",
       "    <tr>\n",
       "      <th>212399</th>\n",
       "      <td>['Elvira Woodruff']</td>\n",
       "      <td>['Juvenile Fiction']</td>\n",
       "    </tr>\n",
       "    <tr>\n",
       "      <th>212400</th>\n",
       "      <td>NaN</td>\n",
       "      <td>['Juvenile Fiction']</td>\n",
       "    </tr>\n",
       "    <tr>\n",
       "      <th>212401</th>\n",
       "      <td>['Wild Wild Cabbage']</td>\n",
       "      <td>NaN</td>\n",
       "    </tr>\n",
       "    <tr>\n",
       "      <th>212402</th>\n",
       "      <td>['Zadie Smith']</td>\n",
       "      <td>['Fiction']</td>\n",
       "    </tr>\n",
       "    <tr>\n",
       "      <th>212403</th>\n",
       "      <td>['David B. Johnson', 'Thomas A. Mowry']</td>\n",
       "      <td>NaN</td>\n",
       "    </tr>\n",
       "  </tbody>\n",
       "</table>\n",
       "<p>212404 rows × 2 columns</p>\n",
       "</div>"
      ],
      "text/plain": [
       "                                        authors                     categories\n",
       "0                              ['Julie Strain']    ['Comics & Graphic Novels']\n",
       "1                                ['Philip Nel']  ['Biography & Autobiography']\n",
       "2                              ['David R. Ray']                   ['Religion']\n",
       "3                           ['Veronica Haddon']                    ['Fiction']\n",
       "4                               ['Edward Long']                            NaN\n",
       "...                                         ...                            ...\n",
       "212399                      ['Elvira Woodruff']           ['Juvenile Fiction']\n",
       "212400                                      NaN           ['Juvenile Fiction']\n",
       "212401                    ['Wild Wild Cabbage']                            NaN\n",
       "212402                          ['Zadie Smith']                    ['Fiction']\n",
       "212403  ['David B. Johnson', 'Thomas A. Mowry']                            NaN\n",
       "\n",
       "[212404 rows x 2 columns]"
      ]
     },
     "execution_count": 36,
     "metadata": {},
     "output_type": "execute_result"
    }
   ],
   "source": [
    "#Display the data of the two columns ( authors, categories)\n",
    "books_clean_df[[\"authors\",\"categories\"]]"
   ]
  },
  {
   "cell_type": "markdown",
   "metadata": {},
   "source": [
    "**Process the __authors__ and __categories__ columns**"
   ]
  },
  {
   "cell_type": "code",
   "execution_count": 37,
   "metadata": {},
   "outputs": [],
   "source": [
    "#Function to convert string representation of string list \"[]\" to actual list []\n",
    "def convert_to_list(column_value):\n",
    "    try:\n",
    "        return ast.literal_eval(column_value)\n",
    "    except (ValueError, SyntaxError):\n",
    "        return [column_value]"
   ]
  },
  {
   "cell_type": "code",
   "execution_count": 38,
   "metadata": {},
   "outputs": [],
   "source": [
    "#Apply the function to the books dataset to convert the authors column\n",
    "books_clean_df['authors'] = books_clean_df['authors'].apply(lambda x: convert_to_list(x) if pd.notna(x) else [])\n"
   ]
  },
  {
   "cell_type": "code",
   "execution_count": 39,
   "metadata": {},
   "outputs": [],
   "source": [
    "#Apply the function to the books dataset to convert the categories column\n",
    "books_clean_df['categories'] = books_clean_df['categories'].apply(lambda x: convert_to_list(x) if pd.notna(x) else [])"
   ]
  },
  {
   "cell_type": "markdown",
   "metadata": {},
   "source": [
    "**Check if the cleaning step was successful:**"
   ]
  },
  {
   "cell_type": "code",
   "execution_count": 40,
   "metadata": {},
   "outputs": [
    {
     "data": {
      "text/html": [
       "<div>\n",
       "<style scoped>\n",
       "    .dataframe tbody tr th:only-of-type {\n",
       "        vertical-align: middle;\n",
       "    }\n",
       "\n",
       "    .dataframe tbody tr th {\n",
       "        vertical-align: top;\n",
       "    }\n",
       "\n",
       "    .dataframe thead th {\n",
       "        text-align: right;\n",
       "    }\n",
       "</style>\n",
       "<table border=\"1\" class=\"dataframe\">\n",
       "  <thead>\n",
       "    <tr style=\"text-align: right;\">\n",
       "      <th></th>\n",
       "      <th>authors</th>\n",
       "      <th>categories</th>\n",
       "    </tr>\n",
       "  </thead>\n",
       "  <tbody>\n",
       "    <tr>\n",
       "      <th>0</th>\n",
       "      <td>[Julie Strain]</td>\n",
       "      <td>[Comics &amp; Graphic Novels]</td>\n",
       "    </tr>\n",
       "    <tr>\n",
       "      <th>1</th>\n",
       "      <td>[Philip Nel]</td>\n",
       "      <td>[Biography &amp; Autobiography]</td>\n",
       "    </tr>\n",
       "    <tr>\n",
       "      <th>2</th>\n",
       "      <td>[David R. Ray]</td>\n",
       "      <td>[Religion]</td>\n",
       "    </tr>\n",
       "    <tr>\n",
       "      <th>3</th>\n",
       "      <td>[Veronica Haddon]</td>\n",
       "      <td>[Fiction]</td>\n",
       "    </tr>\n",
       "    <tr>\n",
       "      <th>4</th>\n",
       "      <td>[Edward Long]</td>\n",
       "      <td>[]</td>\n",
       "    </tr>\n",
       "    <tr>\n",
       "      <th>...</th>\n",
       "      <td>...</td>\n",
       "      <td>...</td>\n",
       "    </tr>\n",
       "    <tr>\n",
       "      <th>212399</th>\n",
       "      <td>[Elvira Woodruff]</td>\n",
       "      <td>[Juvenile Fiction]</td>\n",
       "    </tr>\n",
       "    <tr>\n",
       "      <th>212400</th>\n",
       "      <td>[]</td>\n",
       "      <td>[Juvenile Fiction]</td>\n",
       "    </tr>\n",
       "    <tr>\n",
       "      <th>212401</th>\n",
       "      <td>[Wild Wild Cabbage]</td>\n",
       "      <td>[]</td>\n",
       "    </tr>\n",
       "    <tr>\n",
       "      <th>212402</th>\n",
       "      <td>[Zadie Smith]</td>\n",
       "      <td>[Fiction]</td>\n",
       "    </tr>\n",
       "    <tr>\n",
       "      <th>212403</th>\n",
       "      <td>[David B. Johnson, Thomas A. Mowry]</td>\n",
       "      <td>[]</td>\n",
       "    </tr>\n",
       "  </tbody>\n",
       "</table>\n",
       "<p>212404 rows × 2 columns</p>\n",
       "</div>"
      ],
      "text/plain": [
       "                                    authors                   categories\n",
       "0                            [Julie Strain]    [Comics & Graphic Novels]\n",
       "1                              [Philip Nel]  [Biography & Autobiography]\n",
       "2                            [David R. Ray]                   [Religion]\n",
       "3                         [Veronica Haddon]                    [Fiction]\n",
       "4                             [Edward Long]                           []\n",
       "...                                     ...                          ...\n",
       "212399                    [Elvira Woodruff]           [Juvenile Fiction]\n",
       "212400                                   []           [Juvenile Fiction]\n",
       "212401                  [Wild Wild Cabbage]                           []\n",
       "212402                        [Zadie Smith]                    [Fiction]\n",
       "212403  [David B. Johnson, Thomas A. Mowry]                           []\n",
       "\n",
       "[212404 rows x 2 columns]"
      ]
     },
     "execution_count": 40,
     "metadata": {},
     "output_type": "execute_result"
    }
   ],
   "source": [
    "#Display the data of the two columns ( authors, categories) to check if the converting process was successful\n",
    "books_clean_df[[\"authors\",\"categories\"]]"
   ]
  },
  {
   "cell_type": "markdown",
   "metadata": {},
   "source": [
    "### **Tidiness Issue 2: Inconsistent Column Headers Names**"
   ]
  },
  {
   "cell_type": "markdown",
   "metadata": {},
   "source": [
    ">To ensure consistency in column names across the two datasets, the names of the columns will be formatted. as: Convert the column names to snake case \"a_b\" with all the letter to lower case"
   ]
  },
  {
   "cell_type": "markdown",
   "metadata": {},
   "source": [
    "**Display how the column before cleaning step:**"
   ]
  },
  {
   "cell_type": "code",
   "execution_count": 41,
   "metadata": {},
   "outputs": [
    {
     "name": "stdout",
     "output_type": "stream",
     "text": [
      "The columns for the books dataset are:\n"
     ]
    },
    {
     "data": {
      "text/plain": [
       "['Title',\n",
       " 'description',\n",
       " 'authors',\n",
       " 'publisher',\n",
       " 'publishedDate',\n",
       " 'categories',\n",
       " 'ratingsCount']"
      ]
     },
     "execution_count": 41,
     "metadata": {},
     "output_type": "execute_result"
    }
   ],
   "source": [
    "\n",
    "\n",
    "#Print the columns of the books data\n",
    "print(\"The columns for the books dataset are:\")\n",
    "books_clean_df.columns.to_list()"
   ]
  },
  {
   "cell_type": "code",
   "execution_count": 42,
   "metadata": {},
   "outputs": [
    {
     "name": "stdout",
     "output_type": "stream",
     "text": [
      "The columns for the books rating dataset are:\n"
     ]
    },
    {
     "data": {
      "text/plain": [
       "['Title',\n",
       " 'review/score',\n",
       " 'review/time',\n",
       " 'review/summary',\n",
       " 'review/text',\n",
       " 'total_review',\n",
       " 'helpful_review']"
      ]
     },
     "execution_count": 42,
     "metadata": {},
     "output_type": "execute_result"
    }
   ],
   "source": [
    "#Print the columns of the books rating data\n",
    "print(\"The columns for the books rating dataset are:\")\n",
    "books_rating_clean_df.columns.to_list()"
   ]
  },
  {
   "cell_type": "markdown",
   "metadata": {},
   "source": [
    "**Convert the books dataset columns into snake case:**"
   ]
  },
  {
   "cell_type": "code",
   "execution_count": 43,
   "metadata": {
    "id": "5Yfb-Yu5MTuE"
   },
   "outputs": [],
   "source": [
    "#Define a function that convert the columns names from the camel case to the snake case, also converts the letters to lower case\n",
    "def camel_to_snake(name):\n",
    "    s1 = re.sub('(.)([A-Z][a-z]+)', r'\\1_\\2', name)\n",
    "    return re.sub('([a-z0-9])([A-Z])', r'\\1_\\2', s1).lower()"
   ]
  },
  {
   "cell_type": "code",
   "execution_count": 44,
   "metadata": {},
   "outputs": [],
   "source": [
    "#Apply the function to the books dataset\n",
    "books_clean_df.rename(columns=lambda x: camel_to_snake(x).lower(), inplace=True)\n"
   ]
  },
  {
   "cell_type": "markdown",
   "metadata": {},
   "source": [
    "**Convert the books rating dataset columns into snake case:**"
   ]
  },
  {
   "cell_type": "code",
   "execution_count": 45,
   "metadata": {
    "id": "ionB2sRaMUmY"
   },
   "outputs": [],
   "source": [
    "#Apply lambda function to the books rating dataset to convert the columns name from A/B to snake case and lower case\n",
    "books_rating_clean_df.rename(columns=lambda x: x.replace('/', '_').lower(), inplace=True)\n"
   ]
  },
  {
   "cell_type": "markdown",
   "metadata": {},
   "source": [
    "**Check if the cleaning steps were successful:**"
   ]
  },
  {
   "cell_type": "code",
   "execution_count": 46,
   "metadata": {},
   "outputs": [
    {
     "name": "stdout",
     "output_type": "stream",
     "text": [
      "The columns for the books dataset are:\n"
     ]
    },
    {
     "data": {
      "text/plain": [
       "['title',\n",
       " 'description',\n",
       " 'authors',\n",
       " 'publisher',\n",
       " 'published_date',\n",
       " 'categories',\n",
       " 'ratings_count']"
      ]
     },
     "execution_count": 46,
     "metadata": {},
     "output_type": "execute_result"
    }
   ],
   "source": [
    "#Print the columns of the books data\n",
    "print(\"The columns for the books dataset are:\")\n",
    "books_clean_df.columns.to_list()"
   ]
  },
  {
   "cell_type": "code",
   "execution_count": 47,
   "metadata": {},
   "outputs": [
    {
     "name": "stdout",
     "output_type": "stream",
     "text": [
      "The columns for the books rating dataset are:\n"
     ]
    },
    {
     "data": {
      "text/plain": [
       "['title',\n",
       " 'review_score',\n",
       " 'review_time',\n",
       " 'review_summary',\n",
       " 'review_text',\n",
       " 'total_review',\n",
       " 'helpful_review']"
      ]
     },
     "execution_count": 47,
     "metadata": {},
     "output_type": "execute_result"
    }
   ],
   "source": [
    "#Print the columns of the books rating data\n",
    "print(\"The columns for the books rating dataset are:\")\n",
    "books_rating_clean_df.columns.to_list()"
   ]
  },
  {
   "cell_type": "markdown",
   "metadata": {},
   "source": [
    "### **Tidiness Issue 2: Inconsistent Date Formats**"
   ]
  },
  {
   "cell_type": "markdown",
   "metadata": {},
   "source": [
    "> The date formate of the published_date column is inconsistent some row has the formate yyyy-mm-dd and other has yyyy so this column should be converted \n",
    "\n",
    "\n",
    "> Also The review_time column is on type that is unreadable so it should be converted from unix timestamp to dateTime type"
   ]
  },
  {
   "cell_type": "code",
   "execution_count": 48,
   "metadata": {},
   "outputs": [],
   "source": [
    "#Function to get the Year from the date \n",
    "def standardize_date(date_str):\n",
    "    try:\n",
    "        return pd.to_datetime(date_str).strftime('%Y')\n",
    "    except:\n",
    "        return date_str"
   ]
  },
  {
   "cell_type": "code",
   "execution_count": 49,
   "metadata": {},
   "outputs": [],
   "source": [
    "# Apply the function to the date column\n",
    "books_clean_df['published_date'] = books_clean_df['published_date'].apply(standardize_date)"
   ]
  },
  {
   "cell_type": "code",
   "execution_count": 50,
   "metadata": {},
   "outputs": [],
   "source": [
    "# Convert Unix timestamp to readable date format (converts the Unix timestamp (which is in seconds) to a pandas datetime object)\n",
    "books_rating_clean_df['review_time'] = pd.to_datetime(books_rating_clean_df['review_time'], unit='s').dt.strftime('%Y-%m-%d')"
   ]
  },
  {
   "cell_type": "markdown",
   "metadata": {},
   "source": [
    "**Check if the cleaning steps was successful:**"
   ]
  },
  {
   "cell_type": "code",
   "execution_count": 51,
   "metadata": {},
   "outputs": [
    {
     "data": {
      "text/plain": [
       "0         1996\n",
       "1         2005\n",
       "2         2000\n",
       "3         2005\n",
       "4         2003\n",
       "          ... \n",
       "212399    2000\n",
       "212400    1995\n",
       "212401    2018\n",
       "212402    2003\n",
       "212403    1998\n",
       "Name: published_date, Length: 212404, dtype: object"
      ]
     },
     "execution_count": 51,
     "metadata": {},
     "output_type": "execute_result"
    }
   ],
   "source": [
    "#Display the column data after the converting process\n",
    "books_clean_df['published_date']\n"
   ]
  },
  {
   "cell_type": "code",
   "execution_count": 52,
   "metadata": {},
   "outputs": [
    {
     "data": {
      "text/plain": [
       "0        2012-10-23\n",
       "1        2001-03-28\n",
       "2        2005-01-11\n",
       "3        2011-05-14\n",
       "4        2012-12-05\n",
       "            ...    \n",
       "99995    2002-03-28\n",
       "99996    1998-05-11\n",
       "99997    2006-10-17\n",
       "99998    2001-11-12\n",
       "99999    2000-05-16\n",
       "Name: review_time, Length: 100000, dtype: object"
      ]
     },
     "execution_count": 52,
     "metadata": {},
     "output_type": "execute_result"
    }
   ],
   "source": [
    "#Display the column data after the converting process\n",
    "books_rating_clean_df['review_time']"
   ]
  },
  {
   "cell_type": "markdown",
   "metadata": {},
   "source": [
    "### **Quality Issues 1:Duplicate Values**"
   ]
  },
  {
   "cell_type": "markdown",
   "metadata": {},
   "source": [
    "> To maintain data consistency, removing duplicate rows is a crucial step. As you mentioned during the dataset assessment, the book ratings dataset contains duplicate values, so it’s essential to eliminate them. This process ensures that your analysis is based on accurate and non-redundant data.\n"
   ]
  },
  {
   "cell_type": "code",
   "execution_count": 53,
   "metadata": {},
   "outputs": [],
   "source": [
    "#Delete the duplicate rows from the books_rating_clean_df\n",
    "books_rating_clean_df = books_rating_clean_df.drop_duplicates()"
   ]
  },
  {
   "cell_type": "markdown",
   "metadata": {},
   "source": [
    "**Check if the cleaning step was successful:**"
   ]
  },
  {
   "cell_type": "code",
   "execution_count": 54,
   "metadata": {},
   "outputs": [
    {
     "name": "stdout",
     "output_type": "stream",
     "text": [
      "The number of duplicates rows are: 0\n"
     ]
    }
   ],
   "source": [
    "#Print the count of the duplicates row in the data set\n",
    "print(f'The number of duplicates rows are: {books_rating_clean_df.duplicated().sum()}')"
   ]
  },
  {
   "cell_type": "markdown",
   "metadata": {},
   "source": [
    "### **Quality Issues2:Missing Values**"
   ]
  },
  {
   "cell_type": "markdown",
   "metadata": {},
   "source": [
    "> Removing rows with missing values is essential for ensuring the validity of your merged dataset. By eliminating these missing values, you’ll create a cleaner and more reliable dataset for your analysis.\n"
   ]
  },
  {
   "cell_type": "code",
   "execution_count": 55,
   "metadata": {},
   "outputs": [],
   "source": [
    "#Remove the missing values from the books dataset\n",
    "books_clean_df.dropna(inplace=True)"
   ]
  },
  {
   "cell_type": "code",
   "execution_count": 56,
   "metadata": {},
   "outputs": [],
   "source": [
    "#Remove the missing values from the books rating dataset\n",
    "books_rating_clean_df.dropna(inplace=True)"
   ]
  },
  {
   "cell_type": "markdown",
   "metadata": {},
   "source": [
    "**Check if the cleaning step was successful:**"
   ]
  },
  {
   "cell_type": "code",
   "execution_count": 57,
   "metadata": {},
   "outputs": [
    {
     "name": "stdout",
     "output_type": "stream",
     "text": [
      "The count of null values for each feature for the books data:\n",
      "title             0\n",
      "description       0\n",
      "authors           0\n",
      "publisher         0\n",
      "published_date    0\n",
      "categories        0\n",
      "ratings_count     0\n",
      "dtype: int64\n"
     ]
    }
   ],
   "source": [
    "#Print the count of the null value in each feature\n",
    "print(\"The count of null values for each feature for the books data:\")\n",
    "print(books_clean_df.isnull().sum())\n"
   ]
  },
  {
   "cell_type": "code",
   "execution_count": 58,
   "metadata": {},
   "outputs": [
    {
     "name": "stdout",
     "output_type": "stream",
     "text": [
      "The count of null values for each feature for the books rating data:\n",
      "title             0\n",
      "review_score      0\n",
      "review_time       0\n",
      "review_summary    0\n",
      "review_text       0\n",
      "total_review      0\n",
      "helpful_review    0\n",
      "dtype: int64\n"
     ]
    }
   ],
   "source": [
    "#Print the count of the null value in each feature \n",
    "print(\"The count of null values for each feature for the books rating data:\")\n",
    "print(books_rating_clean_df.isnull().sum())"
   ]
  },
  {
   "cell_type": "markdown",
   "metadata": {},
   "source": [
    "### **Combine datasets**"
   ]
  },
  {
   "cell_type": "markdown",
   "metadata": {},
   "source": [
    "In this section I will use __title__ column to merge the two datasets into one"
   ]
  },
  {
   "cell_type": "code",
   "execution_count": 67,
   "metadata": {},
   "outputs": [],
   "source": [
    "#Merge the Two datasets\n",
    "merged_book_data_df = pd.merge(books_clean_df, books_rating_clean_df, on='title', how='inner')\n"
   ]
  },
  {
   "cell_type": "markdown",
   "metadata": {
    "id": "F42urHuzttjF"
   },
   "source": [
    "## 4. Update data store"
   ]
  },
  {
   "cell_type": "markdown",
   "metadata": {},
   "source": [
    "`The clean Data will be stored in the /datasets/cleanData directory`\n",
    "\n",
    "`The merged data will be saved in the /data directory, and the file name will be datasets/merged_data/merged_data.csv`"
   ]
  },
  {
   "cell_type": "markdown",
   "metadata": {},
   "source": [
    "`NOTE: For Storage purposing I will save just the 1000 sample of the data into the local storage`"
   ]
  },
  {
   "cell_type": "code",
   "execution_count": 68,
   "metadata": {
    "id": "V3uay7EJUV_L"
   },
   "outputs": [],
   "source": [
    "\n",
    "#Make directory to save datasets\n",
    "os.makedirs('datasets/clean_data', exist_ok=True)\n",
    "\n",
    "os.makedirs('datasets/merged_data', exist_ok=True)"
   ]
  },
  {
   "cell_type": "code",
   "execution_count": 69,
   "metadata": {},
   "outputs": [],
   "source": [
    "# Save the cleaned Books DataFrame to a CSV file\n",
    "books_to_save_df = books_clean_df.sample(n=1000, replace=True, random_state=1)\n",
    "\n",
    "books_to_save_df.to_csv('datasets/clean_data/books_data.csv', index=False)"
   ]
  },
  {
   "cell_type": "code",
   "execution_count": 70,
   "metadata": {},
   "outputs": [],
   "source": [
    "# Save the cleaned Books DataFrame to a CSV file\n",
    "books_rating_to_save_df = books_rating_clean_df.sample(n=1000, replace=True, random_state=1)\n",
    "\n",
    "books_rating_to_save_df.to_csv('datasets/clean_data/books_rating.csv', index=False)"
   ]
  },
  {
   "cell_type": "code",
   "execution_count": 71,
   "metadata": {},
   "outputs": [],
   "source": [
    "\n",
    "# Save the cleaned Books DataFrame to a CSV file\n",
    "merged_book_data_to_save_df = merged_book_data_df.sample(n=1000, replace=True, random_state=1)\n",
    "merged_book_data_to_save_df.to_csv('datasets/merged_data/merged_data.csv', index=False)"
   ]
  },
  {
   "cell_type": "markdown",
   "metadata": {
    "id": "cGy_yddGtzhM"
   },
   "source": [
    "## ***5. Answer the research question***\n",
    "\n"
   ]
  },
  {
   "cell_type": "markdown",
   "metadata": {
    "id": "gjedE4s4ZkEd"
   },
   "source": [
    "### ***5.1: Problem Statement : Are there any correlations between published date and review score?***"
   ]
  },
  {
   "cell_type": "markdown",
   "metadata": {},
   "source": [
    "#### ***Visual 1***"
   ]
  },
  {
   "cell_type": "code",
   "execution_count": 72,
   "metadata": {},
   "outputs": [
    {
     "data": {
      "image/png": "[encoded data removed]",
      "text/plain": [
       "<Figure size 1200x600 with 1 Axes>"
      ]
     },
     "metadata": {},
     "output_type": "display_data"
    }
   ],
   "source": [
    "# Convert published_date to datetime\n",
    "merged_book_data_df['published_date'] = pd.to_datetime(merged_book_data_df['published_date'], errors='coerce')\n",
    "\n",
    "#Extract the decade from the published_date\n",
    "merged_book_data_df['date'] = (merged_book_data_df['published_date'].dt.year // 10) * 10\n",
    "\n",
    "#Calculate average review score per decade\n",
    "avg_review_scores_decade = merged_book_data_df.groupby('date')['review_score'].mean().reset_index()\n",
    "\n",
    "#Plotting the correlation between published decade and review score using a line plot\n",
    "plt.figure(figsize=(12, 6))\n",
    "plt.plot(avg_review_scores_decade['date'], avg_review_scores_decade['review_score'], marker='o')\n",
    "plt.title('Correlation between Published Date and Review Score')\n",
    "plt.xlabel('Published Date')\n",
    "plt.ylabel('Average Review Score')\n",
    "plt.grid(True)\n",
    "plt.show()"
   ]
  },
  {
   "cell_type": "markdown",
   "metadata": {},
   "source": [
    "#### ***Visual 2***"
   ]
  },
  {
   "cell_type": "code",
   "execution_count": 73,
   "metadata": {},
   "outputs": [
    {
     "data": {
      "image/png": "[encoded data removed]",
      "text/plain": [
       "<Figure size 1200x600 with 1 Axes>"
      ]
     },
     "metadata": {},
     "output_type": "display_data"
    }
   ],
   "source": [
    "#Calculate average review score per published Date\n",
    "avg_review_scores = merged_book_data_df.groupby('published_date')['review_score'].mean().reset_index()\n",
    "\n",
    "#Plotting the correlation between published Date and review score using a line plot\n",
    "plt.figure(figsize=(12, 6))\n",
    "plt.plot(avg_review_scores['published_date'], avg_review_scores['review_score'], marker='o')\n",
    "plt.title('Correlation between Published Date and Review Score')\n",
    "plt.xlabel('Published Date')\n",
    "plt.ylabel('Average Review Score')\n",
    "plt.grid(True)\n",
    "\n",
    "# Selectively label every nth Date\n",
    "n = 5  # Change this value to control the frequency of labels\n",
    "plt.xticks(avg_review_scores['published_date'][::n], rotation=45)\n",
    "\n",
    "plt.show()"
   ]
  },
  {
   "cell_type": "markdown",
   "metadata": {},
   "source": [
    "#### ***Visual 1&2 Conclusion***"
   ]
  },
  {
   "cell_type": "markdown",
   "metadata": {},
   "source": [
    "`The average review score varies a lot previous to the 1900s but becomes stable and becomes more constant after that time, as seen by the line plots in Visuals 1 and 2. There are distinct peaks and troughs in the early years, which could indicate fewer reviews or uneven review patterns. Following 1900, there is a more consistent pattern of review behavior as the scores level out around an average value. There is a tiny dip in recent years, which may indicate that average scores for newer publications are a little lower. Prior to 1900, the steep peaks and troughs might have been the result of outliers or a small number of data points.`"
   ]
  },
  {
   "cell_type": "markdown",
   "metadata": {},
   "source": [
    "#### ***Visual 3***"
   ]
  },
  {
   "cell_type": "code",
   "execution_count": 74,
   "metadata": {},
   "outputs": [
    {
     "data": {
      "image/png": "[encoded data removed]",
      "text/plain": [
       "<Figure size 1200x600 with 1 Axes>"
      ]
     },
     "metadata": {},
     "output_type": "display_data"
    }
   ],
   "source": [
    "\n",
    "\n",
    "# Convert published_date to datetime\n",
    "merged_book_data_df['published_date'] = pd.to_datetime(merged_book_data_df['published_date'], errors='coerce')\n",
    "\n",
    "# Extract the decade from the published_date\n",
    "merged_book_data_df['date'] = (merged_book_data_df['published_date'].dt.year // 10) * 10\n",
    "\n",
    "# Calculate average review score per date\n",
    "avg_review_scores_decade = merged_book_data_df.groupby('date')['review_score'].mean().reset_index()\n",
    "\n",
    "# Plotting the correlation between published date and review score using a bar plot\n",
    "plt.figure(figsize=(12, 6))\n",
    "plt.bar(avg_review_scores_decade['date'], avg_review_scores_decade['review_score'])\n",
    "plt.title('Correlation between Published Date and Review Score')\n",
    "plt.xlabel('Published Date')\n",
    "plt.ylabel('Average Review Score')\n",
    "plt.xticks(rotation=45)\n",
    "plt.grid(True)\n",
    "plt.show()\n"
   ]
  },
  {
   "cell_type": "markdown",
   "metadata": {},
   "source": [
    "#### ***Visual 3 Conclusion***"
   ]
  },
  {
   "cell_type": "markdown",
   "metadata": {},
   "source": [
    "`The bar plot shows in visual #3 that average review scores have been more stable across decades from the 1900s onwards. In the 1800s, scores were high, possibly due to very positive reviews. In the mid-20th century the scores has decreased , could indicate negative reviews. Recent decades have stable scores around 4, indicating consistent review patterns. Overall, post-1900 scores show less variation, pointing to more consistent reviewing practices or publication standards.`"
   ]
  },
  {
   "cell_type": "markdown",
   "metadata": {},
   "source": [
    "#### ***Conclusion***"
   ]
  },
  {
   "cell_type": "markdown",
   "metadata": {},
   "source": [
    "\n",
    "`All three plots show that review scores have become more stable and consistent over time, especially from the 1900s onwards. Significant variations in the early years suggest inconsistent review patterns or limited data points in for those years. Recent decades have consistent scores, reflecting more uniform reviewing standards. High early scores might be due to fewer reviews or positive bias, while recent scores reflect a larger dataset and varied reviews. These reviews and patterns can help publishers recognize historical patterns in reviews and adjust strategies to maintain or improve average scores.`"
   ]
  },
  {
   "cell_type": "markdown",
   "metadata": {
    "id": "0ezWXXZVj-TP"
   },
   "source": [
    "### **5.2:** Reflection"
   ]
  },
  {
   "cell_type": "markdown",
   "metadata": {},
   "source": [
    "If I hade more time I will look more into the \"Redundant Information\" issue and analyze more the \"Inconsistent Data Formats\" issue.\n",
    "\n",
    "Also I would like to analyze the text of the reviews to detect any pattern that might help to know which text the user could be used for good and bad books, and analyze the relation between the text and the score, and put a question \"What the most word used in the text reviews for a book that have high score?\""
   ]
  }
 ],
 "metadata": {
  "colab": {
   "provenance": []
  },
  "kernelspec": {
   "display_name": "Python 3 (ipykernel)",
   "language": "python",
   "name": "python3"
  },
  "language_info": {
   "codemirror_mode": {
    "name": "ipython",
    "version": 3
   },
   "file_extension": ".py",
   "mimetype": "text/x-python",
   "name": "python",
   "nbconvert_exporter": "python",
   "pygments_lexer": "ipython3",
   "version": "3.11.3"
  }
 },
 "nbformat": 4,
 "nbformat_minor": 1
}
